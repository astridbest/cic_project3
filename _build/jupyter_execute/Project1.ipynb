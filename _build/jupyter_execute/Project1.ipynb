{
 "cells": [
  {
   "cell_type": "markdown",
   "id": "d78c317f-2ce5-4257-85d4-a82cf53259cf",
   "metadata": {
    "id": "d78c317f-2ce5-4257-85d4-a82cf53259cf"
   },
   "source": [
    "# Project 1\n",
    "### Step 1"
   ]
  },
  {
   "cell_type": "markdown",
   "id": "21dafab6-e521-4573-91dc-e9e039f7040c",
   "metadata": {
    "id": "21dafab6-e521-4573-91dc-e9e039f7040c"
   },
   "source": [
    "I will use **Healthcare Appointment Dataset**, which contains data on whether someone would showed up for a medical appointment or not.'\n",
    "The dataset comprise 107K rows and 15 columns."
   ]
  },
  {
   "cell_type": "markdown",
   "id": "7d1c0ad3-62ff-4b32-9461-7555ce7ae2e3",
   "metadata": {
    "id": "7d1c0ad3-62ff-4b32-9461-7555ce7ae2e3"
   },
   "source": [
    "link: https://www.kaggle.com/datasets/wajahat1064/healthcare-appointment-dataset/datans"
   ]
  },
  {
   "cell_type": "markdown",
   "id": "8bb99b22-d650-4ea7-b00b-7dafc9cdf6a5",
   "metadata": {
    "id": "8bb99b22-d650-4ea7-b00b-7dafc9cdf6a5"
   },
   "source": [
    "### Step 2\n",
    "\n",
    "I will use 'Age' column in this project"
   ]
  },
  {
   "cell_type": "markdown",
   "id": "02313ecb-bc65-4bed-b4a4-14bc5bcf665a",
   "metadata": {
    "id": "02313ecb-bc65-4bed-b4a4-14bc5bcf665a"
   },
   "source": [
    "### Step 3\n",
    "New notebook created!"
   ]
  },
  {
   "cell_type": "markdown",
   "id": "60b17bb0-30b5-42f3-9067-d148941f0743",
   "metadata": {
    "id": "60b17bb0-30b5-42f3-9067-d148941f0743"
   },
   "source": [
    "### Step 4\n"
   ]
  },
  {
   "cell_type": "markdown",
   "id": "7c7601be-c8f9-47ae-8671-f542f282f48a",
   "metadata": {
    "id": "7c7601be-c8f9-47ae-8671-f542f282f48a"
   },
   "source": [
    "#### Using Pandas"
   ]
  },
  {
   "cell_type": "markdown",
   "id": "485ef8e7-86c1-4535-89a6-6552bb0fa6b2",
   "metadata": {
    "id": "485ef8e7-86c1-4535-89a6-6552bb0fa6b2"
   },
   "source": [
    "The first thing to do is import Pandas as pd. After that I will read the data using pandas."
   ]
  },
  {
   "cell_type": "code",
   "execution_count": 9,
   "id": "8a6dd4b2-8891-4b0f-8289-20eeb6d22345",
   "metadata": {
    "id": "8a6dd4b2-8891-4b0f-8289-20eeb6d22345"
   },
   "outputs": [],
   "source": [
    "import pandas as pd"
   ]
  },
  {
   "cell_type": "code",
   "execution_count": 10,
   "id": "9479d6e8-190e-4def-b89a-5fec00600ed6",
   "metadata": {
    "colab": {
     "base_uri": "https://localhost:8080/",
     "height": 314
    },
    "id": "9479d6e8-190e-4def-b89a-5fec00600ed6",
    "outputId": "2cc9e768-b2d9-4c17-cc77-38fee582a1dd"
   },
   "outputs": [
    {
     "data": {
      "text/html": [
       "<div>\n",
       "<style scoped>\n",
       "    .dataframe tbody tr th:only-of-type {\n",
       "        vertical-align: middle;\n",
       "    }\n",
       "\n",
       "    .dataframe tbody tr th {\n",
       "        vertical-align: top;\n",
       "    }\n",
       "\n",
       "    .dataframe thead th {\n",
       "        text-align: right;\n",
       "    }\n",
       "</style>\n",
       "<table border=\"1\" class=\"dataframe\">\n",
       "  <thead>\n",
       "    <tr style=\"text-align: right;\">\n",
       "      <th></th>\n",
       "      <th>PatientId</th>\n",
       "      <th>AppointmentID</th>\n",
       "      <th>Gender</th>\n",
       "      <th>ScheduledDay</th>\n",
       "      <th>AppointmentDay</th>\n",
       "      <th>Age</th>\n",
       "      <th>Neighbourhood</th>\n",
       "      <th>Scholarship</th>\n",
       "      <th>Hipertension</th>\n",
       "      <th>Diabetes</th>\n",
       "      <th>Alcoholism</th>\n",
       "      <th>Handcap</th>\n",
       "      <th>SMS_received</th>\n",
       "      <th>Showed_up</th>\n",
       "      <th>Date.diff</th>\n",
       "    </tr>\n",
       "  </thead>\n",
       "  <tbody>\n",
       "    <tr>\n",
       "      <th>0</th>\n",
       "      <td>2.987250e+13</td>\n",
       "      <td>5642903</td>\n",
       "      <td>F</td>\n",
       "      <td>2016-04-29</td>\n",
       "      <td>2016-04-29</td>\n",
       "      <td>62</td>\n",
       "      <td>JARDIM DA PENHA</td>\n",
       "      <td>False</td>\n",
       "      <td>True</td>\n",
       "      <td>False</td>\n",
       "      <td>False</td>\n",
       "      <td>False</td>\n",
       "      <td>False</td>\n",
       "      <td>True</td>\n",
       "      <td>0</td>\n",
       "    </tr>\n",
       "    <tr>\n",
       "      <th>1</th>\n",
       "      <td>5.589978e+14</td>\n",
       "      <td>5642503</td>\n",
       "      <td>M</td>\n",
       "      <td>2016-04-29</td>\n",
       "      <td>2016-04-29</td>\n",
       "      <td>56</td>\n",
       "      <td>JARDIM DA PENHA</td>\n",
       "      <td>False</td>\n",
       "      <td>False</td>\n",
       "      <td>False</td>\n",
       "      <td>False</td>\n",
       "      <td>False</td>\n",
       "      <td>False</td>\n",
       "      <td>True</td>\n",
       "      <td>0</td>\n",
       "    </tr>\n",
       "    <tr>\n",
       "      <th>2</th>\n",
       "      <td>4.262962e+12</td>\n",
       "      <td>5642549</td>\n",
       "      <td>F</td>\n",
       "      <td>2016-04-29</td>\n",
       "      <td>2016-04-29</td>\n",
       "      <td>62</td>\n",
       "      <td>MATA DA PRAIA</td>\n",
       "      <td>False</td>\n",
       "      <td>False</td>\n",
       "      <td>False</td>\n",
       "      <td>False</td>\n",
       "      <td>False</td>\n",
       "      <td>False</td>\n",
       "      <td>True</td>\n",
       "      <td>0</td>\n",
       "    </tr>\n",
       "    <tr>\n",
       "      <th>3</th>\n",
       "      <td>8.679512e+11</td>\n",
       "      <td>5642828</td>\n",
       "      <td>F</td>\n",
       "      <td>2016-04-29</td>\n",
       "      <td>2016-04-29</td>\n",
       "      <td>8</td>\n",
       "      <td>PONTAL DE CAMBURI</td>\n",
       "      <td>False</td>\n",
       "      <td>False</td>\n",
       "      <td>False</td>\n",
       "      <td>False</td>\n",
       "      <td>False</td>\n",
       "      <td>False</td>\n",
       "      <td>True</td>\n",
       "      <td>0</td>\n",
       "    </tr>\n",
       "    <tr>\n",
       "      <th>4</th>\n",
       "      <td>8.841186e+12</td>\n",
       "      <td>5642494</td>\n",
       "      <td>F</td>\n",
       "      <td>2016-04-29</td>\n",
       "      <td>2016-04-29</td>\n",
       "      <td>56</td>\n",
       "      <td>JARDIM DA PENHA</td>\n",
       "      <td>False</td>\n",
       "      <td>True</td>\n",
       "      <td>True</td>\n",
       "      <td>False</td>\n",
       "      <td>False</td>\n",
       "      <td>False</td>\n",
       "      <td>True</td>\n",
       "      <td>0</td>\n",
       "    </tr>\n",
       "    <tr>\n",
       "      <th>...</th>\n",
       "      <td>...</td>\n",
       "      <td>...</td>\n",
       "      <td>...</td>\n",
       "      <td>...</td>\n",
       "      <td>...</td>\n",
       "      <td>...</td>\n",
       "      <td>...</td>\n",
       "      <td>...</td>\n",
       "      <td>...</td>\n",
       "      <td>...</td>\n",
       "      <td>...</td>\n",
       "      <td>...</td>\n",
       "      <td>...</td>\n",
       "      <td>...</td>\n",
       "      <td>...</td>\n",
       "    </tr>\n",
       "    <tr>\n",
       "      <th>106982</th>\n",
       "      <td>2.572134e+12</td>\n",
       "      <td>5651768</td>\n",
       "      <td>F</td>\n",
       "      <td>2016-05-03</td>\n",
       "      <td>2016-06-07</td>\n",
       "      <td>56</td>\n",
       "      <td>MARIA ORTIZ</td>\n",
       "      <td>False</td>\n",
       "      <td>False</td>\n",
       "      <td>False</td>\n",
       "      <td>False</td>\n",
       "      <td>False</td>\n",
       "      <td>True</td>\n",
       "      <td>True</td>\n",
       "      <td>35</td>\n",
       "    </tr>\n",
       "    <tr>\n",
       "      <th>106983</th>\n",
       "      <td>3.596266e+12</td>\n",
       "      <td>5650093</td>\n",
       "      <td>F</td>\n",
       "      <td>2016-05-03</td>\n",
       "      <td>2016-06-07</td>\n",
       "      <td>51</td>\n",
       "      <td>MARIA ORTIZ</td>\n",
       "      <td>False</td>\n",
       "      <td>False</td>\n",
       "      <td>False</td>\n",
       "      <td>False</td>\n",
       "      <td>False</td>\n",
       "      <td>True</td>\n",
       "      <td>True</td>\n",
       "      <td>35</td>\n",
       "    </tr>\n",
       "    <tr>\n",
       "      <th>106984</th>\n",
       "      <td>1.557663e+13</td>\n",
       "      <td>5630692</td>\n",
       "      <td>F</td>\n",
       "      <td>2016-04-27</td>\n",
       "      <td>2016-06-07</td>\n",
       "      <td>21</td>\n",
       "      <td>MARIA ORTIZ</td>\n",
       "      <td>False</td>\n",
       "      <td>False</td>\n",
       "      <td>False</td>\n",
       "      <td>False</td>\n",
       "      <td>False</td>\n",
       "      <td>True</td>\n",
       "      <td>True</td>\n",
       "      <td>41</td>\n",
       "    </tr>\n",
       "    <tr>\n",
       "      <th>106985</th>\n",
       "      <td>9.213493e+13</td>\n",
       "      <td>5630323</td>\n",
       "      <td>F</td>\n",
       "      <td>2016-04-27</td>\n",
       "      <td>2016-06-07</td>\n",
       "      <td>38</td>\n",
       "      <td>MARIA ORTIZ</td>\n",
       "      <td>False</td>\n",
       "      <td>False</td>\n",
       "      <td>False</td>\n",
       "      <td>False</td>\n",
       "      <td>False</td>\n",
       "      <td>True</td>\n",
       "      <td>True</td>\n",
       "      <td>41</td>\n",
       "    </tr>\n",
       "    <tr>\n",
       "      <th>106986</th>\n",
       "      <td>3.775115e+14</td>\n",
       "      <td>5629448</td>\n",
       "      <td>F</td>\n",
       "      <td>2016-04-27</td>\n",
       "      <td>2016-06-07</td>\n",
       "      <td>54</td>\n",
       "      <td>MARIA ORTIZ</td>\n",
       "      <td>False</td>\n",
       "      <td>False</td>\n",
       "      <td>False</td>\n",
       "      <td>False</td>\n",
       "      <td>False</td>\n",
       "      <td>True</td>\n",
       "      <td>True</td>\n",
       "      <td>41</td>\n",
       "    </tr>\n",
       "  </tbody>\n",
       "</table>\n",
       "<p>106987 rows × 15 columns</p>\n",
       "</div>"
      ],
      "text/plain": [
       "           PatientId  AppointmentID Gender ScheduledDay AppointmentDay  Age  \\\n",
       "0       2.987250e+13        5642903      F   2016-04-29     2016-04-29   62   \n",
       "1       5.589978e+14        5642503      M   2016-04-29     2016-04-29   56   \n",
       "2       4.262962e+12        5642549      F   2016-04-29     2016-04-29   62   \n",
       "3       8.679512e+11        5642828      F   2016-04-29     2016-04-29    8   \n",
       "4       8.841186e+12        5642494      F   2016-04-29     2016-04-29   56   \n",
       "...              ...            ...    ...          ...            ...  ...   \n",
       "106982  2.572134e+12        5651768      F   2016-05-03     2016-06-07   56   \n",
       "106983  3.596266e+12        5650093      F   2016-05-03     2016-06-07   51   \n",
       "106984  1.557663e+13        5630692      F   2016-04-27     2016-06-07   21   \n",
       "106985  9.213493e+13        5630323      F   2016-04-27     2016-06-07   38   \n",
       "106986  3.775115e+14        5629448      F   2016-04-27     2016-06-07   54   \n",
       "\n",
       "            Neighbourhood  Scholarship  Hipertension  Diabetes  Alcoholism  \\\n",
       "0         JARDIM DA PENHA        False          True     False       False   \n",
       "1         JARDIM DA PENHA        False         False     False       False   \n",
       "2           MATA DA PRAIA        False         False     False       False   \n",
       "3       PONTAL DE CAMBURI        False         False     False       False   \n",
       "4         JARDIM DA PENHA        False          True      True       False   \n",
       "...                   ...          ...           ...       ...         ...   \n",
       "106982        MARIA ORTIZ        False         False     False       False   \n",
       "106983        MARIA ORTIZ        False         False     False       False   \n",
       "106984        MARIA ORTIZ        False         False     False       False   \n",
       "106985        MARIA ORTIZ        False         False     False       False   \n",
       "106986        MARIA ORTIZ        False         False     False       False   \n",
       "\n",
       "        Handcap  SMS_received  Showed_up  Date.diff  \n",
       "0         False         False       True          0  \n",
       "1         False         False       True          0  \n",
       "2         False         False       True          0  \n",
       "3         False         False       True          0  \n",
       "4         False         False       True          0  \n",
       "...         ...           ...        ...        ...  \n",
       "106982    False          True       True         35  \n",
       "106983    False          True       True         35  \n",
       "106984    False          True       True         41  \n",
       "106985    False          True       True         41  \n",
       "106986    False          True       True         41  \n",
       "\n",
       "[106987 rows x 15 columns]"
      ]
     },
     "execution_count": 10,
     "metadata": {},
     "output_type": "execute_result"
    }
   ],
   "source": [
    "healthcare2=pd.read_csv('healthcare_data.csv')\n",
    "healthcare2"
   ]
  },
  {
   "cell_type": "markdown",
   "id": "16cbe4c2-b9cc-45f7-93bb-7cfe69dfe978",
   "metadata": {
    "id": "16cbe4c2-b9cc-45f7-93bb-7cfe69dfe978"
   },
   "source": [
    "**1. Mean**"
   ]
  },
  {
   "cell_type": "code",
   "execution_count": 12,
   "id": "c9002239-1e45-40ea-8dde-74f400ba3d72",
   "metadata": {
    "id": "c9002239-1e45-40ea-8dde-74f400ba3d72"
   },
   "outputs": [
    {
     "data": {
      "text/plain": [
       "38.31608513183845"
      ]
     },
     "execution_count": 12,
     "metadata": {},
     "output_type": "execute_result"
    }
   ],
   "source": [
    "healthcare2['Age'].mean()"
   ]
  },
  {
   "cell_type": "markdown",
   "id": "407cd2ad-abf5-4dc2-86c6-6ef0f46ebcaa",
   "metadata": {
    "id": "407cd2ad-abf5-4dc2-86c6-6ef0f46ebcaa"
   },
   "source": [
    "The mean age of people who had medical appointment using Pandas is **38 y.o**"
   ]
  },
  {
   "cell_type": "markdown",
   "id": "b64536d7-5b60-4c6e-aa92-aba1ec558a6b",
   "metadata": {
    "id": "b64536d7-5b60-4c6e-aa92-aba1ec558a6b"
   },
   "source": [
    "**2. Median**"
   ]
  },
  {
   "cell_type": "code",
   "execution_count": 15,
   "id": "49730784-6a3a-4eec-a0ae-5b9e17e32099",
   "metadata": {
    "id": "49730784-6a3a-4eec-a0ae-5b9e17e32099"
   },
   "outputs": [
    {
     "data": {
      "text/plain": [
       "38.0"
      ]
     },
     "execution_count": 15,
     "metadata": {},
     "output_type": "execute_result"
    }
   ],
   "source": [
    "healthcare2['Age'].median()"
   ]
  },
  {
   "cell_type": "markdown",
   "id": "71f4e0b0-17f2-4c6b-8233-2b73d867ec32",
   "metadata": {
    "id": "71f4e0b0-17f2-4c6b-8233-2b73d867ec32"
   },
   "source": [
    "The median age of people who had medical appointment using Pandas is **38 y.o**"
   ]
  },
  {
   "cell_type": "markdown",
   "id": "87762256-ace9-43ee-ba50-9b3d9d7e8b2e",
   "metadata": {
    "id": "87762256-ace9-43ee-ba50-9b3d9d7e8b2e"
   },
   "source": [
    "**3. Modes**"
   ]
  },
  {
   "cell_type": "code",
   "execution_count": 18,
   "id": "d70706bf-1db7-45f1-b179-6f5fe1d6607b",
   "metadata": {
    "id": "d70706bf-1db7-45f1-b179-6f5fe1d6607b"
   },
   "outputs": [
    {
     "data": {
      "text/plain": [
       "0    1\n",
       "Name: Age, dtype: int64"
      ]
     },
     "execution_count": 18,
     "metadata": {},
     "output_type": "execute_result"
    }
   ],
   "source": [
    "healthcare2['Age'].mode()"
   ]
  },
  {
   "cell_type": "markdown",
   "id": "aefe6f22-f3d3-4f94-b35b-faff5fb07472",
   "metadata": {
    "id": "aefe6f22-f3d3-4f94-b35b-faff5fb07472"
   },
   "source": [
    "The modes age of people who had medical appointment using Pandas is **1 y.o**, which is at index 0"
   ]
  },
  {
   "cell_type": "markdown",
   "id": "757ce596-088c-479a-979d-83a42bf78769",
   "metadata": {
    "id": "757ce596-088c-479a-979d-83a42bf78769"
   },
   "source": [
    "### Step 5\n",
    "#### Using only Phyton standard library"
   ]
  },
  {
   "cell_type": "markdown",
   "id": "a2ef7578-942a-4373-b857-0172ff320b00",
   "metadata": {
    "id": "a2ef7578-942a-4373-b857-0172ff320b00"
   },
   "source": [
    "First thing is to import csv"
   ]
  },
  {
   "cell_type": "code",
   "execution_count": 22,
   "id": "765c3802-68d9-4665-9f55-9246440646dc",
   "metadata": {
    "id": "765c3802-68d9-4665-9f55-9246440646dc"
   },
   "outputs": [],
   "source": [
    "import csv"
   ]
  },
  {
   "cell_type": "markdown",
   "id": "81260359-e741-4308-ac23-a382db6c0fdf",
   "metadata": {
    "id": "81260359-e741-4308-ac23-a382db6c0fdf"
   },
   "source": [
    "Now, read the data using phyton standard library."
   ]
  },
  {
   "cell_type": "code",
   "execution_count": 24,
   "id": "63aefc73-cd44-432b-8659-aa7ba9c32664",
   "metadata": {
    "id": "63aefc73-cd44-432b-8659-aa7ba9c32664"
   },
   "outputs": [
    {
     "data": {
      "text/plain": [
       "[{'PatientId': '29872499824296',\n",
       "  'AppointmentID': '5642903',\n",
       "  'Gender': 'F',\n",
       "  'ScheduledDay': '2016-04-29',\n",
       "  'AppointmentDay': '2016-04-29',\n",
       "  'Age': '62',\n",
       "  'Neighbourhood': 'JARDIM DA PENHA',\n",
       "  'Scholarship': 'FALSE',\n",
       "  'Hipertension': 'TRUE',\n",
       "  'Diabetes': 'FALSE',\n",
       "  'Alcoholism': 'FALSE',\n",
       "  'Handcap': 'FALSE',\n",
       "  'SMS_received': 'FALSE',\n",
       "  'Showed_up': 'TRUE',\n",
       "  'Date.diff': '0'},\n",
       " {'PatientId': '558997776694438',\n",
       "  'AppointmentID': '5642503',\n",
       "  'Gender': 'M',\n",
       "  'ScheduledDay': '2016-04-29',\n",
       "  'AppointmentDay': '2016-04-29',\n",
       "  'Age': '56',\n",
       "  'Neighbourhood': 'JARDIM DA PENHA',\n",
       "  'Scholarship': 'FALSE',\n",
       "  'Hipertension': 'FALSE',\n",
       "  'Diabetes': 'FALSE',\n",
       "  'Alcoholism': 'FALSE',\n",
       "  'Handcap': 'FALSE',\n",
       "  'SMS_received': 'FALSE',\n",
       "  'Showed_up': 'TRUE',\n",
       "  'Date.diff': '0'},\n",
       " {'PatientId': '4262962299951',\n",
       "  'AppointmentID': '5642549',\n",
       "  'Gender': 'F',\n",
       "  'ScheduledDay': '2016-04-29',\n",
       "  'AppointmentDay': '2016-04-29',\n",
       "  'Age': '62',\n",
       "  'Neighbourhood': 'MATA DA PRAIA',\n",
       "  'Scholarship': 'FALSE',\n",
       "  'Hipertension': 'FALSE',\n",
       "  'Diabetes': 'FALSE',\n",
       "  'Alcoholism': 'FALSE',\n",
       "  'Handcap': 'FALSE',\n",
       "  'SMS_received': 'FALSE',\n",
       "  'Showed_up': 'TRUE',\n",
       "  'Date.diff': '0'}]"
      ]
     },
     "execution_count": 24,
     "metadata": {},
     "output_type": "execute_result"
    }
   ],
   "source": [
    "healthcare=[]\n",
    "with open ('healthcare_data.csv',encoding='utf-8') as data1:\n",
    "    reader=csv.DictReader(data1)\n",
    "    for row in reader:\n",
    "        healthcare.append(row)\n",
    "healthcare[:3]"
   ]
  },
  {
   "cell_type": "markdown",
   "id": "57692e55-a052-444a-b730-c07f9bddfa9e",
   "metadata": {
    "id": "57692e55-a052-444a-b730-c07f9bddfa9e"
   },
   "source": [
    "**1. Mean**"
   ]
  },
  {
   "cell_type": "code",
   "execution_count": 26,
   "id": "a4b4f1fa-7b96-42b4-bbca-cf355091685e",
   "metadata": {
    "id": "a4b4f1fa-7b96-42b4-bbca-cf355091685e"
   },
   "outputs": [
    {
     "data": {
      "text/plain": [
       "[62.0, 56.0, 62.0, 8.0, 56.0]"
      ]
     },
     "execution_count": 26,
     "metadata": {},
     "output_type": "execute_result"
    }
   ],
   "source": [
    "age= [float(row['Age']) for row in healthcare]\n",
    "age[:5]"
   ]
  },
  {
   "cell_type": "code",
   "execution_count": 27,
   "id": "7becd3bf-96b6-4af2-be58-ddbc3060922b",
   "metadata": {
    "id": "7becd3bf-96b6-4af2-be58-ddbc3060922b"
   },
   "outputs": [
    {
     "data": {
      "text/plain": [
       "38.31608513183845"
      ]
     },
     "execution_count": 27,
     "metadata": {},
     "output_type": "execute_result"
    }
   ],
   "source": [
    "total_age= sum(age)\n",
    "mean_age= total_age/len(age)\n",
    "mean_age"
   ]
  },
  {
   "cell_type": "markdown",
   "id": "72f3924e-62ed-4175-a741-992475e71727",
   "metadata": {
    "id": "72f3924e-62ed-4175-a741-992475e71727"
   },
   "source": [
    "The mean age of people who had medical appointment is **38 y.o**"
   ]
  },
  {
   "cell_type": "markdown",
   "id": "10b0d0f8-e93e-46bf-8af3-972b2ef3f1ea",
   "metadata": {
    "id": "10b0d0f8-e93e-46bf-8af3-972b2ef3f1ea"
   },
   "source": [
    "**2. Median**"
   ]
  },
  {
   "cell_type": "code",
   "execution_count": 30,
   "id": "8452c875-0e85-46c1-946a-5332a22ae6a4",
   "metadata": {
    "id": "8452c875-0e85-46c1-946a-5332a22ae6a4"
   },
   "outputs": [],
   "source": [
    "def median(age):\n",
    "    sort_data=sorted(age)\n",
    "    n= len(age)\n",
    "\n",
    "    if n%2==0:\n",
    "        med1=sort_data[n//2-1]\n",
    "        med2=sort_data[n//2]\n",
    "        median_1= (med1+med2)/2\n",
    "    else:\n",
    "        median_1= sort_data[n//2]\n",
    "    return median_1"
   ]
  },
  {
   "cell_type": "markdown",
   "id": "e2619d7e-d784-4c16-83ac-c00f53ed6fee",
   "metadata": {
    "id": "e2619d7e-d784-4c16-83ac-c00f53ed6fee"
   },
   "source": [
    "First, I make a function called 'median' to calculate the median. If the total count (n) of age is even, the median is the average of the two middle numbers. If the n is odd, the median is the middle number."
   ]
  },
  {
   "cell_type": "code",
   "execution_count": 32,
   "id": "f99495a9-37cd-4720-8434-b934a51260d8",
   "metadata": {
    "id": "f99495a9-37cd-4720-8434-b934a51260d8"
   },
   "outputs": [
    {
     "data": {
      "text/plain": [
       "38.0"
      ]
     },
     "execution_count": 32,
     "metadata": {},
     "output_type": "execute_result"
    }
   ],
   "source": [
    "median(age)"
   ]
  },
  {
   "cell_type": "markdown",
   "id": "5018f336-c8f3-467f-9437-10ab9c24aaac",
   "metadata": {
    "id": "5018f336-c8f3-467f-9437-10ab9c24aaac"
   },
   "source": [
    "The median age of people who had a medical appointment is **38 y.o.**"
   ]
  },
  {
   "cell_type": "markdown",
   "id": "0638ec91-0ca4-49d0-88e6-7a934444673b",
   "metadata": {
    "id": "0638ec91-0ca4-49d0-88e6-7a934444673b"
   },
   "source": [
    "**3. Modes**"
   ]
  },
  {
   "cell_type": "code",
   "execution_count": 35,
   "id": "e70842a1-59f2-4530-8001-8641429c96cf",
   "metadata": {
    "id": "e70842a1-59f2-4530-8001-8641429c96cf"
   },
   "outputs": [],
   "source": [
    "def modes(age):\n",
    "    frequency = {}\n",
    "    for num in age:\n",
    "        frequency[num] = frequency.get(num, 0) + 1\n",
    "    max_count = max(frequency.values())\n",
    "    modes = [num for num, count in frequency.items() if count == max_count]\n",
    "\n",
    "    return modes"
   ]
  },
  {
   "cell_type": "markdown",
   "id": "3b540118-3440-4aea-8079-d0dbc7c41348",
   "metadata": {
    "id": "3b540118-3440-4aea-8079-d0dbc7c41348"
   },
   "source": [
    "Similar to median, I create a function called modes. This function tracks the frequency of each value in the age list using a dictionary called frequency. For each number in age, Python counts the number of times it appears, storing these counts in the frequency dictionary. Finally, we find the highest count and return a list of numbers with that frequency as the modes."
   ]
  },
  {
   "cell_type": "code",
   "execution_count": 37,
   "id": "d41cf680-d43e-42c3-bb2c-e656735920ad",
   "metadata": {
    "id": "d41cf680-d43e-42c3-bb2c-e656735920ad"
   },
   "outputs": [
    {
     "data": {
      "text/plain": [
       "[1.0]"
      ]
     },
     "execution_count": 37,
     "metadata": {},
     "output_type": "execute_result"
    }
   ],
   "source": [
    "modes(age)"
   ]
  },
  {
   "cell_type": "markdown",
   "id": "f696836c-0128-48cc-b20a-e60143f34a00",
   "metadata": {
    "id": "f696836c-0128-48cc-b20a-e60143f34a00"
   },
   "source": [
    "The modes age of people who had a medical appointment is **1 y.o.**"
   ]
  },
  {
   "cell_type": "markdown",
   "id": "692639a3-f2e0-494e-b135-289eb38c2a9b",
   "metadata": {
    "id": "f054b2f4-dd23-4629-9676-de3200527baf"
   },
   "source": [
    "### Step 6"
   ]
  },
  {
   "cell_type": "markdown",
   "id": "d9513725-e26f-4a7d-b9ef-f0f08b662b0b",
   "metadata": {
    "id": "40ada66c-0721-40c6-b815-ed8503b9e0eb"
   },
   "source": [
    "#### Data Visualization"
   ]
  },
  {
   "cell_type": "markdown",
   "id": "c687eb4b-752d-4ae6-aade-9ae347f38ffa",
   "metadata": {
    "id": "c687eb4b-752d-4ae6-aade-9ae347f38ffa"
   },
   "source": [
    "I will create a bar chart that displays the ages of different patients, with each patient identified by their ID. In this chart, longer bars represent older patients, allowing us to quickly see who is older or younger among them."
   ]
  },
  {
   "cell_type": "code",
   "execution_count": 42,
   "id": "536d67e3-3ecb-4dbd-81af-4e25389b35c2",
   "metadata": {
    "id": "536d67e3-3ecb-4dbd-81af-4e25389b35c2"
   },
   "outputs": [],
   "source": [
    "healthcare2 = pd.read_csv('healthcare_data.csv', dtype={'PatientId': 'string'})"
   ]
  },
  {
   "cell_type": "markdown",
   "id": "340f18e8-93ed-4651-bc9b-a9569e580309",
   "metadata": {
    "id": "340f18e8-93ed-4651-bc9b-a9569e580309"
   },
   "source": [
    "Drop any rows with missing values"
   ]
  },
  {
   "cell_type": "code",
   "execution_count": 44,
   "id": "1594d3da-618f-43c9-bf9e-7ed30b2ea540",
   "metadata": {
    "id": "1594d3da-618f-43c9-bf9e-7ed30b2ea540"
   },
   "outputs": [],
   "source": [
    "data = healthcare2[['PatientId', 'Age']].dropna()\n",
    "data = data.head(50)"
   ]
  },
  {
   "cell_type": "markdown",
   "id": "84103768-0597-4a04-8dbe-cc58dceb7eb6",
   "metadata": {
    "id": "84103768-0597-4a04-8dbe-cc58dceb7eb6"
   },
   "source": [
    "I limit the output to 50 rows to avoid crashing my Jupyter notebook when displaying larger datasets."
   ]
  },
  {
   "cell_type": "code",
   "execution_count": 46,
   "id": "c503cf47-35ae-48f3-82c6-749504f76c86",
   "metadata": {
    "id": "c503cf47-35ae-48f3-82c6-749504f76c86"
   },
   "outputs": [
    {
     "name": "stdout",
     "output_type": "stream",
     "text": [
      "Patient ID and Age with Visual Representation\n",
      "PatientId | Age | Chart\n",
      "--------------------------------------------------\n",
      "29872499824296 | 62  | #############################\n",
      "558997776694438 | 56  | ##########################\n",
      "4262962299951 | 62  | #############################\n",
      "867951213174 | 8   | ###\n",
      "8841186448183 | 56  | ##########################\n",
      "95985133231274 | 76  | ###################################\n",
      "733688164476661 | 23  | ##########\n",
      "3449833394123 | 39  | ##################\n",
      "56394729949972 | 21  | #########\n",
      "78124564369297 | 19  | ########\n",
      "734536231958495 | 30  | ##############\n",
      "7542951368435 | 29  | #############\n",
      "566654781423437 | 22  | ##########\n",
      "911394617215919 | 28  | #############\n",
      "99884723334928 | 54  | #########################\n",
      "99948393975 | 15  | #######\n",
      "84574392942817 | 50  | #######################\n",
      "14794966191172 | 40  | ##################\n",
      "17135378245248 | 30  | ##############\n",
      "7223289184215 | 46  | #####################\n",
      "622257462899397 | 30  | ##############\n",
      "12154843752835 | 4   | #\n",
      "863229818887631 | 13  | ######\n",
      "213753979425692 | 46  | #####################\n",
      "8734857996885 | 65  | ##############################\n",
      "5819369978796 | 46  | #####################\n",
      "25787851512 | 45  | #####################\n",
      "12154843752835 | 4   | #\n",
      "5926171692527 | 51  | ########################\n",
      "1225776163665 | 32  | ###############\n",
      "342815551642 | 46  | #####################\n",
      "311284853849 | 12  | #####\n",
      "52883562769472 | 61  | ############################\n",
      "7653516999712 | 38  | #################\n",
      "19999756532994 | 79  | #####################################\n",
      "78162635161611 | 18  | ########\n",
      "72984587621439 | 63  | #############################\n",
      "1578131861739 | 64  | ##############################\n",
      "5873315843778 | 85  | ########################################\n",
      "14556231793236 | 59  | ###########################\n",
      "996868412638744 | 55  | #########################\n",
      "822432466381793 | 71  | #################################\n",
      "25965426543339 | 50  | #######################\n",
      "71558956872246 | 49  | #######################\n",
      "274164858852 | 78  | ####################################\n",
      "4982378572899 | 31  | ##############\n",
      "137943696338 | 58  | ###########################\n",
      "589458459955 | 39  | ##################\n",
      "8545415176986 | 58  | ###########################\n",
      "92235587471561 | 27  | ############\n"
     ]
    }
   ],
   "source": [
    "if not data.empty:\n",
    "    max_age = data['Age'].max()\n",
    "    scale_factor = 40 / max_age\n",
    "\n",
    "    #header\n",
    "    print(\"Patient ID and Age with Visual Representation\")\n",
    "    print(\"PatientId | Age | Chart\")\n",
    "    print(\"-\" * 50)\n",
    "\n",
    "    # Print each row with a simple vertical bar\n",
    "    for _, row in data.iterrows():\n",
    "        patient_id = row['PatientId']\n",
    "        age = row['Age']\n",
    "        bar_length = int(age * scale_factor)\n",
    "        print(f\"{patient_id:<10} | {age:<3} | {'#' * bar_length}\")\n",
    "else:\n",
    "    print(\"No valid data to display.\")"
   ]
  },
  {
   "cell_type": "markdown",
   "id": "e1b6ec92-7803-4917-8be2-aff81f164b84",
   "metadata": {},
   "source": [
    "or to display the DataFrame as an HTML table"
   ]
  },
  {
   "cell_type": "code",
   "execution_count": 48,
   "id": "61e6d484-1bbb-4cd8-becc-bef7791572d0",
   "metadata": {
    "id": "61e6d484-1bbb-4cd8-becc-bef7791572d0"
   },
   "outputs": [
    {
     "data": {
      "text/html": [
       "<h3>Patient ID and Age with Visual Representation</h3><table border=\"1\" class=\"dataframe\">\n",
       "  <thead>\n",
       "    <tr style=\"text-align: right;\">\n",
       "      <th>PatientId</th>\n",
       "      <th>Age</th>\n",
       "      <th>Chart</th>\n",
       "    </tr>\n",
       "  </thead>\n",
       "  <tbody>\n",
       "    <tr>\n",
       "      <td>29872499824296</td>\n",
       "      <td>62</td>\n",
       "      <td>#############################</td>\n",
       "    </tr>\n",
       "    <tr>\n",
       "      <td>558997776694438</td>\n",
       "      <td>56</td>\n",
       "      <td>##########################</td>\n",
       "    </tr>\n",
       "    <tr>\n",
       "      <td>4262962299951</td>\n",
       "      <td>62</td>\n",
       "      <td>#############################</td>\n",
       "    </tr>\n",
       "    <tr>\n",
       "      <td>867951213174</td>\n",
       "      <td>8</td>\n",
       "      <td>###</td>\n",
       "    </tr>\n",
       "    <tr>\n",
       "      <td>8841186448183</td>\n",
       "      <td>56</td>\n",
       "      <td>##########################</td>\n",
       "    </tr>\n",
       "    <tr>\n",
       "      <td>95985133231274</td>\n",
       "      <td>76</td>\n",
       "      <td>###################################</td>\n",
       "    </tr>\n",
       "    <tr>\n",
       "      <td>733688164476661</td>\n",
       "      <td>23</td>\n",
       "      <td>##########</td>\n",
       "    </tr>\n",
       "    <tr>\n",
       "      <td>3449833394123</td>\n",
       "      <td>39</td>\n",
       "      <td>##################</td>\n",
       "    </tr>\n",
       "    <tr>\n",
       "      <td>56394729949972</td>\n",
       "      <td>21</td>\n",
       "      <td>#########</td>\n",
       "    </tr>\n",
       "    <tr>\n",
       "      <td>78124564369297</td>\n",
       "      <td>19</td>\n",
       "      <td>########</td>\n",
       "    </tr>\n",
       "    <tr>\n",
       "      <td>734536231958495</td>\n",
       "      <td>30</td>\n",
       "      <td>##############</td>\n",
       "    </tr>\n",
       "    <tr>\n",
       "      <td>7542951368435</td>\n",
       "      <td>29</td>\n",
       "      <td>#############</td>\n",
       "    </tr>\n",
       "    <tr>\n",
       "      <td>566654781423437</td>\n",
       "      <td>22</td>\n",
       "      <td>##########</td>\n",
       "    </tr>\n",
       "    <tr>\n",
       "      <td>911394617215919</td>\n",
       "      <td>28</td>\n",
       "      <td>#############</td>\n",
       "    </tr>\n",
       "    <tr>\n",
       "      <td>99884723334928</td>\n",
       "      <td>54</td>\n",
       "      <td>#########################</td>\n",
       "    </tr>\n",
       "    <tr>\n",
       "      <td>99948393975</td>\n",
       "      <td>15</td>\n",
       "      <td>#######</td>\n",
       "    </tr>\n",
       "    <tr>\n",
       "      <td>84574392942817</td>\n",
       "      <td>50</td>\n",
       "      <td>#######################</td>\n",
       "    </tr>\n",
       "    <tr>\n",
       "      <td>14794966191172</td>\n",
       "      <td>40</td>\n",
       "      <td>##################</td>\n",
       "    </tr>\n",
       "    <tr>\n",
       "      <td>17135378245248</td>\n",
       "      <td>30</td>\n",
       "      <td>##############</td>\n",
       "    </tr>\n",
       "    <tr>\n",
       "      <td>7223289184215</td>\n",
       "      <td>46</td>\n",
       "      <td>#####################</td>\n",
       "    </tr>\n",
       "    <tr>\n",
       "      <td>622257462899397</td>\n",
       "      <td>30</td>\n",
       "      <td>##############</td>\n",
       "    </tr>\n",
       "    <tr>\n",
       "      <td>12154843752835</td>\n",
       "      <td>4</td>\n",
       "      <td>#</td>\n",
       "    </tr>\n",
       "    <tr>\n",
       "      <td>863229818887631</td>\n",
       "      <td>13</td>\n",
       "      <td>######</td>\n",
       "    </tr>\n",
       "    <tr>\n",
       "      <td>213753979425692</td>\n",
       "      <td>46</td>\n",
       "      <td>#####################</td>\n",
       "    </tr>\n",
       "    <tr>\n",
       "      <td>8734857996885</td>\n",
       "      <td>65</td>\n",
       "      <td>##############################</td>\n",
       "    </tr>\n",
       "    <tr>\n",
       "      <td>5819369978796</td>\n",
       "      <td>46</td>\n",
       "      <td>#####################</td>\n",
       "    </tr>\n",
       "    <tr>\n",
       "      <td>25787851512</td>\n",
       "      <td>45</td>\n",
       "      <td>#####################</td>\n",
       "    </tr>\n",
       "    <tr>\n",
       "      <td>12154843752835</td>\n",
       "      <td>4</td>\n",
       "      <td>#</td>\n",
       "    </tr>\n",
       "    <tr>\n",
       "      <td>5926171692527</td>\n",
       "      <td>51</td>\n",
       "      <td>########################</td>\n",
       "    </tr>\n",
       "    <tr>\n",
       "      <td>1225776163665</td>\n",
       "      <td>32</td>\n",
       "      <td>###############</td>\n",
       "    </tr>\n",
       "    <tr>\n",
       "      <td>342815551642</td>\n",
       "      <td>46</td>\n",
       "      <td>#####################</td>\n",
       "    </tr>\n",
       "    <tr>\n",
       "      <td>311284853849</td>\n",
       "      <td>12</td>\n",
       "      <td>#####</td>\n",
       "    </tr>\n",
       "    <tr>\n",
       "      <td>52883562769472</td>\n",
       "      <td>61</td>\n",
       "      <td>############################</td>\n",
       "    </tr>\n",
       "    <tr>\n",
       "      <td>7653516999712</td>\n",
       "      <td>38</td>\n",
       "      <td>#################</td>\n",
       "    </tr>\n",
       "    <tr>\n",
       "      <td>19999756532994</td>\n",
       "      <td>79</td>\n",
       "      <td>#####################################</td>\n",
       "    </tr>\n",
       "    <tr>\n",
       "      <td>78162635161611</td>\n",
       "      <td>18</td>\n",
       "      <td>########</td>\n",
       "    </tr>\n",
       "    <tr>\n",
       "      <td>72984587621439</td>\n",
       "      <td>63</td>\n",
       "      <td>#############################</td>\n",
       "    </tr>\n",
       "    <tr>\n",
       "      <td>1578131861739</td>\n",
       "      <td>64</td>\n",
       "      <td>##############################</td>\n",
       "    </tr>\n",
       "    <tr>\n",
       "      <td>5873315843778</td>\n",
       "      <td>85</td>\n",
       "      <td>########################################</td>\n",
       "    </tr>\n",
       "    <tr>\n",
       "      <td>14556231793236</td>\n",
       "      <td>59</td>\n",
       "      <td>###########################</td>\n",
       "    </tr>\n",
       "    <tr>\n",
       "      <td>996868412638744</td>\n",
       "      <td>55</td>\n",
       "      <td>#########################</td>\n",
       "    </tr>\n",
       "    <tr>\n",
       "      <td>822432466381793</td>\n",
       "      <td>71</td>\n",
       "      <td>#################################</td>\n",
       "    </tr>\n",
       "    <tr>\n",
       "      <td>25965426543339</td>\n",
       "      <td>50</td>\n",
       "      <td>#######################</td>\n",
       "    </tr>\n",
       "    <tr>\n",
       "      <td>71558956872246</td>\n",
       "      <td>49</td>\n",
       "      <td>#######################</td>\n",
       "    </tr>\n",
       "    <tr>\n",
       "      <td>274164858852</td>\n",
       "      <td>78</td>\n",
       "      <td>####################################</td>\n",
       "    </tr>\n",
       "    <tr>\n",
       "      <td>4982378572899</td>\n",
       "      <td>31</td>\n",
       "      <td>##############</td>\n",
       "    </tr>\n",
       "    <tr>\n",
       "      <td>137943696338</td>\n",
       "      <td>58</td>\n",
       "      <td>###########################</td>\n",
       "    </tr>\n",
       "    <tr>\n",
       "      <td>589458459955</td>\n",
       "      <td>39</td>\n",
       "      <td>##################</td>\n",
       "    </tr>\n",
       "    <tr>\n",
       "      <td>8545415176986</td>\n",
       "      <td>58</td>\n",
       "      <td>###########################</td>\n",
       "    </tr>\n",
       "    <tr>\n",
       "      <td>92235587471561</td>\n",
       "      <td>27</td>\n",
       "      <td>############</td>\n",
       "    </tr>\n",
       "  </tbody>\n",
       "</table>"
      ],
      "text/plain": [
       "<IPython.core.display.HTML object>"
      ]
     },
     "metadata": {},
     "output_type": "display_data"
    }
   ],
   "source": [
    "from IPython.display import display, HTML\n",
    "\n",
    "if not data.empty:\n",
    "    max_age = data['Age'].max()\n",
    "    scale_factor = 40 / max_age  \n",
    "\n",
    "    data['Chart'] = data['Age'].apply(lambda age: '#' * int(age * scale_factor))\n",
    "\n",
    "    display(HTML(f\"<h3>Patient ID and Age with Visual Representation</h3>{data.to_html(index=False)}\"))\n",
    "else:\n",
    "    print(\"No valid data to display.\")\n"
   ]
  },
  {
   "cell_type": "markdown",
   "id": "79b830fa-9bf5-4c86-ae93-109c16e974b8",
   "metadata": {
    "id": "79b830fa-9bf5-4c86-ae93-109c16e974b8"
   },
   "source": [
    "## FINISH 🥳"
   ]
  }
 ],
 "metadata": {
  "colab": {
   "provenance": []
  },
  "kernelspec": {
   "display_name": "Python 3 (ipykernel)",
   "language": "python",
   "name": "python3"
  },
  "language_info": {
   "codemirror_mode": {
    "name": "ipython",
    "version": 3
   },
   "file_extension": ".py",
   "mimetype": "text/x-python",
   "name": "python",
   "nbconvert_exporter": "python",
   "pygments_lexer": "ipython3",
   "version": "3.12.4"
  }
 },
 "nbformat": 4,
 "nbformat_minor": 5
}