{
 "cells": [
  {
   "cell_type": "markdown",
   "id": "b829c4a6-5747-4f60-ba0c-cb320507f818",
   "metadata": {},
   "source": [
    "# Project 2"
   ]
  },
  {
   "cell_type": "markdown",
   "id": "a7a5182f-0df8-4a0f-bb9f-2d107f31dee3",
   "metadata": {},
   "source": [
    "I'm going to explore the relationship between anxiety disorder prevalence and a country's GDP per capita to understand how economic factors impact mental health across regions. Regions with higher GDP per capita often have better healthcare resources and lower financial stress, potentially reducing anxiety by increasing access to mental health support. Conversely, areas with lower GDP per capita may experience higher anxiety rates due to limited resources and economic insecurity. This analysis will help illustrate the role of economic stability in shaping mental well-being across different contexts."
   ]
  },
  {
   "cell_type": "markdown",
   "id": "05e88d5f-07e5-4c7a-b40a-64839153579f",
   "metadata": {},
   "source": [
    "### Data"
   ]
  },
  {
   "cell_type": "markdown",
   "id": "abbfcc65-f2d3-4564-bd2e-5145844961a3",
   "metadata": {},
   "source": [
    "Data source for anxiety disorder prevalence: https://www.kaggle.com/datasets/muhammadfaizan65/mental-health-depression-disorder-data"
   ]
  },
  {
   "cell_type": "markdown",
   "id": "0306acbf-dcff-4998-8acf-93f12f370a99",
   "metadata": {},
   "source": [
    "Data source for GDP per Capita: https://data.worldbank.org/indicator/NY.GDP.PCAP.CD"
   ]
  },
  {
   "cell_type": "code",
   "execution_count": 6,
   "id": "f61412d5-7f13-4ac9-a1af-1f3528e7bec9",
   "metadata": {},
   "outputs": [],
   "source": [
    "import plotly.io as pio\n",
    "\n",
    "pio.renderers.default = \"vscode+jupyterlab+notebook_connected\""
   ]
  },
  {
   "cell_type": "code",
   "execution_count": 7,
   "id": "f924dd98-16b3-4b01-aa18-3d2b7d6dce4a",
   "metadata": {},
   "outputs": [],
   "source": [
    "import pandas as pd\n",
    "import plotly.express as px"
   ]
  },
  {
   "cell_type": "code",
   "execution_count": 8,
   "id": "948e77f7-a7c4-4361-bdd8-6499a8ec72bb",
   "metadata": {},
   "outputs": [
    {
     "data": {
      "text/html": [
       "<div>\n",
       "<style scoped>\n",
       "    .dataframe tbody tr th:only-of-type {\n",
       "        vertical-align: middle;\n",
       "    }\n",
       "\n",
       "    .dataframe tbody tr th {\n",
       "        vertical-align: top;\n",
       "    }\n",
       "\n",
       "    .dataframe thead th {\n",
       "        text-align: right;\n",
       "    }\n",
       "</style>\n",
       "<table border=\"1\" class=\"dataframe\">\n",
       "  <thead>\n",
       "    <tr style=\"text-align: right;\">\n",
       "      <th></th>\n",
       "      <th>Entity</th>\n",
       "      <th>Code</th>\n",
       "      <th>Year</th>\n",
       "      <th>Schizophrenia (%)</th>\n",
       "      <th>Bipolar disorder (%)</th>\n",
       "      <th>Eating disorders (%)</th>\n",
       "      <th>Anxiety disorders (%)</th>\n",
       "      <th>Drug use disorders (%)</th>\n",
       "      <th>Depression (%)</th>\n",
       "      <th>Alcohol use disorders (%)</th>\n",
       "    </tr>\n",
       "  </thead>\n",
       "  <tbody>\n",
       "    <tr>\n",
       "      <th>0</th>\n",
       "      <td>Afghanistan</td>\n",
       "      <td>AFG</td>\n",
       "      <td>1990</td>\n",
       "      <td>0.160560</td>\n",
       "      <td>0.697779</td>\n",
       "      <td>0.101855</td>\n",
       "      <td>4.828830</td>\n",
       "      <td>1.677082</td>\n",
       "      <td>4.071831</td>\n",
       "      <td>0.672404</td>\n",
       "    </tr>\n",
       "    <tr>\n",
       "      <th>1</th>\n",
       "      <td>Afghanistan</td>\n",
       "      <td>AFG</td>\n",
       "      <td>1991</td>\n",
       "      <td>0.160312</td>\n",
       "      <td>0.697961</td>\n",
       "      <td>0.099313</td>\n",
       "      <td>4.829740</td>\n",
       "      <td>1.684746</td>\n",
       "      <td>4.079531</td>\n",
       "      <td>0.671768</td>\n",
       "    </tr>\n",
       "    <tr>\n",
       "      <th>2</th>\n",
       "      <td>Afghanistan</td>\n",
       "      <td>AFG</td>\n",
       "      <td>1992</td>\n",
       "      <td>0.160135</td>\n",
       "      <td>0.698107</td>\n",
       "      <td>0.096692</td>\n",
       "      <td>4.831108</td>\n",
       "      <td>1.694334</td>\n",
       "      <td>4.088358</td>\n",
       "      <td>0.670644</td>\n",
       "    </tr>\n",
       "    <tr>\n",
       "      <th>3</th>\n",
       "      <td>Afghanistan</td>\n",
       "      <td>AFG</td>\n",
       "      <td>1993</td>\n",
       "      <td>0.160037</td>\n",
       "      <td>0.698257</td>\n",
       "      <td>0.094336</td>\n",
       "      <td>4.830864</td>\n",
       "      <td>1.705320</td>\n",
       "      <td>4.096190</td>\n",
       "      <td>0.669738</td>\n",
       "    </tr>\n",
       "    <tr>\n",
       "      <th>4</th>\n",
       "      <td>Afghanistan</td>\n",
       "      <td>AFG</td>\n",
       "      <td>1994</td>\n",
       "      <td>0.160022</td>\n",
       "      <td>0.698469</td>\n",
       "      <td>0.092439</td>\n",
       "      <td>4.829423</td>\n",
       "      <td>1.716069</td>\n",
       "      <td>4.099582</td>\n",
       "      <td>0.669260</td>\n",
       "    </tr>\n",
       "  </tbody>\n",
       "</table>\n",
       "</div>"
      ],
      "text/plain": [
       "        Entity Code  Year  Schizophrenia (%)  Bipolar disorder (%)  \\\n",
       "0  Afghanistan  AFG  1990           0.160560              0.697779   \n",
       "1  Afghanistan  AFG  1991           0.160312              0.697961   \n",
       "2  Afghanistan  AFG  1992           0.160135              0.698107   \n",
       "3  Afghanistan  AFG  1993           0.160037              0.698257   \n",
       "4  Afghanistan  AFG  1994           0.160022              0.698469   \n",
       "\n",
       "   Eating disorders (%)  Anxiety disorders (%)  Drug use disorders (%)  \\\n",
       "0              0.101855               4.828830                1.677082   \n",
       "1              0.099313               4.829740                1.684746   \n",
       "2              0.096692               4.831108                1.694334   \n",
       "3              0.094336               4.830864                1.705320   \n",
       "4              0.092439               4.829423                1.716069   \n",
       "\n",
       "   Depression (%)  Alcohol use disorders (%)  \n",
       "0        4.071831                   0.672404  \n",
       "1        4.079531                   0.671768  \n",
       "2        4.088358                   0.670644  \n",
       "3        4.096190                   0.669738  \n",
       "4        4.099582                   0.669260  "
      ]
     },
     "execution_count": 8,
     "metadata": {},
     "output_type": "execute_result"
    }
   ],
   "source": [
    "anxiety = pd.read_csv(\n",
    "    \"disorderdata.csv\",\n",
    "    sep=';',\n",
    "    on_bad_lines=\"skip\"\n",
    ")\n",
    "anxiety.head()"
   ]
  },
  {
   "cell_type": "code",
   "execution_count": 9,
   "id": "5c4be198-bd29-4764-8e99-05d03a1a98ca",
   "metadata": {},
   "outputs": [
    {
     "data": {
      "text/html": [
       "<div>\n",
       "<style scoped>\n",
       "    .dataframe tbody tr th:only-of-type {\n",
       "        vertical-align: middle;\n",
       "    }\n",
       "\n",
       "    .dataframe tbody tr th {\n",
       "        vertical-align: top;\n",
       "    }\n",
       "\n",
       "    .dataframe thead th {\n",
       "        text-align: right;\n",
       "    }\n",
       "</style>\n",
       "<table border=\"1\" class=\"dataframe\">\n",
       "  <thead>\n",
       "    <tr style=\"text-align: right;\">\n",
       "      <th></th>\n",
       "      <th>Country Name</th>\n",
       "      <th>Country Code</th>\n",
       "      <th>Indicator Name</th>\n",
       "      <th>Indicator Code</th>\n",
       "      <th>1960</th>\n",
       "      <th>1961</th>\n",
       "      <th>1962</th>\n",
       "      <th>1963</th>\n",
       "      <th>1964</th>\n",
       "      <th>1965</th>\n",
       "      <th>...</th>\n",
       "      <th>2014</th>\n",
       "      <th>2015</th>\n",
       "      <th>2016</th>\n",
       "      <th>2017</th>\n",
       "      <th>2018</th>\n",
       "      <th>2019</th>\n",
       "      <th>2020</th>\n",
       "      <th>2021</th>\n",
       "      <th>2022</th>\n",
       "      <th>2023</th>\n",
       "    </tr>\n",
       "  </thead>\n",
       "  <tbody>\n",
       "    <tr>\n",
       "      <th>0</th>\n",
       "      <td>Aruba</td>\n",
       "      <td>ABW</td>\n",
       "      <td>GDP per capita (current US$)</td>\n",
       "      <td>NY.GDP.PCAP.CD</td>\n",
       "      <td>NaN</td>\n",
       "      <td>NaN</td>\n",
       "      <td>NaN</td>\n",
       "      <td>NaN</td>\n",
       "      <td>NaN</td>\n",
       "      <td>NaN</td>\n",
       "      <td>...</td>\n",
       "      <td>26940.264114</td>\n",
       "      <td>28419.264534</td>\n",
       "      <td>28449.712946</td>\n",
       "      <td>29329.081747</td>\n",
       "      <td>30918.483584</td>\n",
       "      <td>31902.809818</td>\n",
       "      <td>24008.127822</td>\n",
       "      <td>29127.759384</td>\n",
       "      <td>33300.838819</td>\n",
       "      <td>NaN</td>\n",
       "    </tr>\n",
       "    <tr>\n",
       "      <th>1</th>\n",
       "      <td>Africa Eastern and Southern</td>\n",
       "      <td>AFE</td>\n",
       "      <td>GDP per capita (current US$)</td>\n",
       "      <td>NY.GDP.PCAP.CD</td>\n",
       "      <td>162.342517</td>\n",
       "      <td>166.263682</td>\n",
       "      <td>171.961916</td>\n",
       "      <td>182.018479</td>\n",
       "      <td>192.639989</td>\n",
       "      <td>202.847824</td>\n",
       "      <td>...</td>\n",
       "      <td>1678.553610</td>\n",
       "      <td>1498.805084</td>\n",
       "      <td>1346.301281</td>\n",
       "      <td>1485.753579</td>\n",
       "      <td>1558.612079</td>\n",
       "      <td>1508.486886</td>\n",
       "      <td>1356.088871</td>\n",
       "      <td>1545.956697</td>\n",
       "      <td>1642.432039</td>\n",
       "      <td>1672.505957</td>\n",
       "    </tr>\n",
       "    <tr>\n",
       "      <th>2</th>\n",
       "      <td>Afghanistan</td>\n",
       "      <td>AFG</td>\n",
       "      <td>GDP per capita (current US$)</td>\n",
       "      <td>NY.GDP.PCAP.CD</td>\n",
       "      <td>NaN</td>\n",
       "      <td>NaN</td>\n",
       "      <td>NaN</td>\n",
       "      <td>NaN</td>\n",
       "      <td>NaN</td>\n",
       "      <td>NaN</td>\n",
       "      <td>...</td>\n",
       "      <td>626.512929</td>\n",
       "      <td>566.881130</td>\n",
       "      <td>523.053012</td>\n",
       "      <td>526.140801</td>\n",
       "      <td>492.090631</td>\n",
       "      <td>497.741431</td>\n",
       "      <td>512.055098</td>\n",
       "      <td>355.777826</td>\n",
       "      <td>352.603733</td>\n",
       "      <td>NaN</td>\n",
       "    </tr>\n",
       "    <tr>\n",
       "      <th>3</th>\n",
       "      <td>Africa Western and Central</td>\n",
       "      <td>AFW</td>\n",
       "      <td>GDP per capita (current US$)</td>\n",
       "      <td>NY.GDP.PCAP.CD</td>\n",
       "      <td>122.193931</td>\n",
       "      <td>127.732834</td>\n",
       "      <td>134.130071</td>\n",
       "      <td>139.291222</td>\n",
       "      <td>148.821355</td>\n",
       "      <td>156.314136</td>\n",
       "      <td>...</td>\n",
       "      <td>2248.518426</td>\n",
       "      <td>1882.518808</td>\n",
       "      <td>1648.920269</td>\n",
       "      <td>1590.555785</td>\n",
       "      <td>1735.445833</td>\n",
       "      <td>1813.609146</td>\n",
       "      <td>1688.470871</td>\n",
       "      <td>1769.171853</td>\n",
       "      <td>1788.875347</td>\n",
       "      <td>1584.333285</td>\n",
       "    </tr>\n",
       "    <tr>\n",
       "      <th>4</th>\n",
       "      <td>Angola</td>\n",
       "      <td>AGO</td>\n",
       "      <td>GDP per capita (current US$)</td>\n",
       "      <td>NY.GDP.PCAP.CD</td>\n",
       "      <td>NaN</td>\n",
       "      <td>NaN</td>\n",
       "      <td>NaN</td>\n",
       "      <td>NaN</td>\n",
       "      <td>NaN</td>\n",
       "      <td>NaN</td>\n",
       "      <td>...</td>\n",
       "      <td>5011.984427</td>\n",
       "      <td>3217.339240</td>\n",
       "      <td>1809.709377</td>\n",
       "      <td>2439.374439</td>\n",
       "      <td>2540.508879</td>\n",
       "      <td>2191.347764</td>\n",
       "      <td>1450.905111</td>\n",
       "      <td>1927.474078</td>\n",
       "      <td>2933.484644</td>\n",
       "      <td>2309.521620</td>\n",
       "    </tr>\n",
       "  </tbody>\n",
       "</table>\n",
       "<p>5 rows × 68 columns</p>\n",
       "</div>"
      ],
      "text/plain": [
       "                  Country Name Country Code                Indicator Name  \\\n",
       "0                        Aruba          ABW  GDP per capita (current US$)   \n",
       "1  Africa Eastern and Southern          AFE  GDP per capita (current US$)   \n",
       "2                  Afghanistan          AFG  GDP per capita (current US$)   \n",
       "3   Africa Western and Central          AFW  GDP per capita (current US$)   \n",
       "4                       Angola          AGO  GDP per capita (current US$)   \n",
       "\n",
       "   Indicator Code        1960        1961        1962        1963        1964  \\\n",
       "0  NY.GDP.PCAP.CD         NaN         NaN         NaN         NaN         NaN   \n",
       "1  NY.GDP.PCAP.CD  162.342517  166.263682  171.961916  182.018479  192.639989   \n",
       "2  NY.GDP.PCAP.CD         NaN         NaN         NaN         NaN         NaN   \n",
       "3  NY.GDP.PCAP.CD  122.193931  127.732834  134.130071  139.291222  148.821355   \n",
       "4  NY.GDP.PCAP.CD         NaN         NaN         NaN         NaN         NaN   \n",
       "\n",
       "         1965  ...          2014          2015          2016          2017  \\\n",
       "0         NaN  ...  26940.264114  28419.264534  28449.712946  29329.081747   \n",
       "1  202.847824  ...   1678.553610   1498.805084   1346.301281   1485.753579   \n",
       "2         NaN  ...    626.512929    566.881130    523.053012    526.140801   \n",
       "3  156.314136  ...   2248.518426   1882.518808   1648.920269   1590.555785   \n",
       "4         NaN  ...   5011.984427   3217.339240   1809.709377   2439.374439   \n",
       "\n",
       "           2018          2019          2020          2021          2022  \\\n",
       "0  30918.483584  31902.809818  24008.127822  29127.759384  33300.838819   \n",
       "1   1558.612079   1508.486886   1356.088871   1545.956697   1642.432039   \n",
       "2    492.090631    497.741431    512.055098    355.777826    352.603733   \n",
       "3   1735.445833   1813.609146   1688.470871   1769.171853   1788.875347   \n",
       "4   2540.508879   2191.347764   1450.905111   1927.474078   2933.484644   \n",
       "\n",
       "          2023  \n",
       "0          NaN  \n",
       "1  1672.505957  \n",
       "2          NaN  \n",
       "3  1584.333285  \n",
       "4  2309.521620  \n",
       "\n",
       "[5 rows x 68 columns]"
      ]
     },
     "execution_count": 9,
     "metadata": {},
     "output_type": "execute_result"
    }
   ],
   "source": [
    "gdp_percapita= pd.read_csv(\n",
    "    \"gdp_percapita.csv\"\n",
    ")\n",
    "gdp_percapita.head()"
   ]
  },
  {
   "cell_type": "markdown",
   "id": "0051663a-45cd-4a39-8ef7-1ce3a48af963",
   "metadata": {},
   "source": [
    "From now on I will only use \"Anxiety Disorder (%)\" column and will drop others"
   ]
  },
  {
   "cell_type": "code",
   "execution_count": 11,
   "id": "23d3b8ce-880f-4f23-9e48-e052188c960e",
   "metadata": {},
   "outputs": [
    {
     "name": "stdout",
     "output_type": "stream",
     "text": [
      "<class 'pandas.core.frame.DataFrame'>\n",
      "RangeIndex: 6468 entries, 0 to 6467\n",
      "Data columns (total 10 columns):\n",
      " #   Column                     Non-Null Count  Dtype  \n",
      "---  ------                     --------------  -----  \n",
      " 0   Entity                     6468 non-null   object \n",
      " 1   Code                       5488 non-null   object \n",
      " 2   Year                       6468 non-null   int64  \n",
      " 3   Schizophrenia (%)          6468 non-null   float64\n",
      " 4   Bipolar disorder (%)       6468 non-null   float64\n",
      " 5   Eating disorders (%)       6468 non-null   float64\n",
      " 6   Anxiety disorders (%)      6468 non-null   float64\n",
      " 7   Drug use disorders (%)     6468 non-null   float64\n",
      " 8   Depression (%)             6468 non-null   float64\n",
      " 9   Alcohol use disorders (%)  6468 non-null   float64\n",
      "dtypes: float64(7), int64(1), object(2)\n",
      "memory usage: 505.4+ KB\n"
     ]
    }
   ],
   "source": [
    "anxiety.info()"
   ]
  },
  {
   "cell_type": "code",
   "execution_count": 12,
   "id": "d67658e6-e3c3-4773-a7f9-393aa392cb45",
   "metadata": {},
   "outputs": [],
   "source": [
    "anxiety2 = anxiety[['Entity', 'Code','Year','Anxiety disorders (%)']]"
   ]
  },
  {
   "cell_type": "code",
   "execution_count": 13,
   "id": "5eca3f4f-57fe-448f-a07b-a6dca6d61dca",
   "metadata": {},
   "outputs": [
    {
     "data": {
      "text/html": [
       "<div>\n",
       "<style scoped>\n",
       "    .dataframe tbody tr th:only-of-type {\n",
       "        vertical-align: middle;\n",
       "    }\n",
       "\n",
       "    .dataframe tbody tr th {\n",
       "        vertical-align: top;\n",
       "    }\n",
       "\n",
       "    .dataframe thead th {\n",
       "        text-align: right;\n",
       "    }\n",
       "</style>\n",
       "<table border=\"1\" class=\"dataframe\">\n",
       "  <thead>\n",
       "    <tr style=\"text-align: right;\">\n",
       "      <th></th>\n",
       "      <th>Entity</th>\n",
       "      <th>Code</th>\n",
       "      <th>Year</th>\n",
       "      <th>Anxiety disorders (%)</th>\n",
       "    </tr>\n",
       "  </thead>\n",
       "  <tbody>\n",
       "    <tr>\n",
       "      <th>0</th>\n",
       "      <td>Afghanistan</td>\n",
       "      <td>AFG</td>\n",
       "      <td>1990</td>\n",
       "      <td>4.828830</td>\n",
       "    </tr>\n",
       "    <tr>\n",
       "      <th>1</th>\n",
       "      <td>Afghanistan</td>\n",
       "      <td>AFG</td>\n",
       "      <td>1991</td>\n",
       "      <td>4.829740</td>\n",
       "    </tr>\n",
       "    <tr>\n",
       "      <th>2</th>\n",
       "      <td>Afghanistan</td>\n",
       "      <td>AFG</td>\n",
       "      <td>1992</td>\n",
       "      <td>4.831108</td>\n",
       "    </tr>\n",
       "    <tr>\n",
       "      <th>3</th>\n",
       "      <td>Afghanistan</td>\n",
       "      <td>AFG</td>\n",
       "      <td>1993</td>\n",
       "      <td>4.830864</td>\n",
       "    </tr>\n",
       "    <tr>\n",
       "      <th>4</th>\n",
       "      <td>Afghanistan</td>\n",
       "      <td>AFG</td>\n",
       "      <td>1994</td>\n",
       "      <td>4.829423</td>\n",
       "    </tr>\n",
       "  </tbody>\n",
       "</table>\n",
       "</div>"
      ],
      "text/plain": [
       "        Entity Code  Year  Anxiety disorders (%)\n",
       "0  Afghanistan  AFG  1990               4.828830\n",
       "1  Afghanistan  AFG  1991               4.829740\n",
       "2  Afghanistan  AFG  1992               4.831108\n",
       "3  Afghanistan  AFG  1993               4.830864\n",
       "4  Afghanistan  AFG  1994               4.829423"
      ]
     },
     "execution_count": 13,
     "metadata": {},
     "output_type": "execute_result"
    }
   ],
   "source": [
    "anxiety2.head()"
   ]
  },
  {
   "cell_type": "markdown",
   "id": "50e6d280-7c16-4af0-886e-5a780181366d",
   "metadata": {},
   "source": [
    "I will use only the most recent data available, which is from 2017"
   ]
  },
  {
   "cell_type": "code",
   "execution_count": 15,
   "id": "f45a0da3-b94f-42f5-8d05-e078f9a6707a",
   "metadata": {},
   "outputs": [],
   "source": [
    "anxiety2_2017 = anxiety2[anxiety2['Year'] == 2017]"
   ]
  },
  {
   "cell_type": "code",
   "execution_count": 16,
   "id": "2b6c4ed3-9af7-4bf7-bddb-3c3b7e40158c",
   "metadata": {},
   "outputs": [
    {
     "data": {
      "text/html": [
       "<div>\n",
       "<style scoped>\n",
       "    .dataframe tbody tr th:only-of-type {\n",
       "        vertical-align: middle;\n",
       "    }\n",
       "\n",
       "    .dataframe tbody tr th {\n",
       "        vertical-align: top;\n",
       "    }\n",
       "\n",
       "    .dataframe thead th {\n",
       "        text-align: right;\n",
       "    }\n",
       "</style>\n",
       "<table border=\"1\" class=\"dataframe\">\n",
       "  <thead>\n",
       "    <tr style=\"text-align: right;\">\n",
       "      <th></th>\n",
       "      <th>Entity</th>\n",
       "      <th>Code</th>\n",
       "      <th>Year</th>\n",
       "      <th>Anxiety disorders (%)</th>\n",
       "    </tr>\n",
       "  </thead>\n",
       "  <tbody>\n",
       "    <tr>\n",
       "      <th>27</th>\n",
       "      <td>Afghanistan</td>\n",
       "      <td>AFG</td>\n",
       "      <td>2017</td>\n",
       "      <td>4.882481</td>\n",
       "    </tr>\n",
       "    <tr>\n",
       "      <th>55</th>\n",
       "      <td>Albania</td>\n",
       "      <td>ALB</td>\n",
       "      <td>2017</td>\n",
       "      <td>3.385245</td>\n",
       "    </tr>\n",
       "    <tr>\n",
       "      <th>83</th>\n",
       "      <td>Algeria</td>\n",
       "      <td>DZA</td>\n",
       "      <td>2017</td>\n",
       "      <td>5.065876</td>\n",
       "    </tr>\n",
       "    <tr>\n",
       "      <th>111</th>\n",
       "      <td>American Samoa</td>\n",
       "      <td>ASM</td>\n",
       "      <td>2017</td>\n",
       "      <td>3.315834</td>\n",
       "    </tr>\n",
       "    <tr>\n",
       "      <th>139</th>\n",
       "      <td>Andean Latin America</td>\n",
       "      <td>NaN</td>\n",
       "      <td>2017</td>\n",
       "      <td>4.267738</td>\n",
       "    </tr>\n",
       "    <tr>\n",
       "      <th>...</th>\n",
       "      <td>...</td>\n",
       "      <td>...</td>\n",
       "      <td>...</td>\n",
       "      <td>...</td>\n",
       "    </tr>\n",
       "    <tr>\n",
       "      <th>6355</th>\n",
       "      <td>Western Sub-Saharan Africa</td>\n",
       "      <td>NaN</td>\n",
       "      <td>2017</td>\n",
       "      <td>2.908183</td>\n",
       "    </tr>\n",
       "    <tr>\n",
       "      <th>6383</th>\n",
       "      <td>World</td>\n",
       "      <td>OWID_WRL</td>\n",
       "      <td>2017</td>\n",
       "      <td>3.764811</td>\n",
       "    </tr>\n",
       "    <tr>\n",
       "      <th>6411</th>\n",
       "      <td>Yemen</td>\n",
       "      <td>YEM</td>\n",
       "      <td>2017</td>\n",
       "      <td>4.857207</td>\n",
       "    </tr>\n",
       "    <tr>\n",
       "      <th>6439</th>\n",
       "      <td>Zambia</td>\n",
       "      <td>ZMB</td>\n",
       "      <td>2017</td>\n",
       "      <td>3.599714</td>\n",
       "    </tr>\n",
       "    <tr>\n",
       "      <th>6467</th>\n",
       "      <td>Zimbabwe</td>\n",
       "      <td>ZWE</td>\n",
       "      <td>2017</td>\n",
       "      <td>3.110926</td>\n",
       "    </tr>\n",
       "  </tbody>\n",
       "</table>\n",
       "<p>231 rows × 4 columns</p>\n",
       "</div>"
      ],
      "text/plain": [
       "                          Entity      Code  Year  Anxiety disorders (%)\n",
       "27                   Afghanistan       AFG  2017               4.882481\n",
       "55                       Albania       ALB  2017               3.385245\n",
       "83                       Algeria       DZA  2017               5.065876\n",
       "111               American Samoa       ASM  2017               3.315834\n",
       "139         Andean Latin America       NaN  2017               4.267738\n",
       "...                          ...       ...   ...                    ...\n",
       "6355  Western Sub-Saharan Africa       NaN  2017               2.908183\n",
       "6383                       World  OWID_WRL  2017               3.764811\n",
       "6411                       Yemen       YEM  2017               4.857207\n",
       "6439                      Zambia       ZMB  2017               3.599714\n",
       "6467                    Zimbabwe       ZWE  2017               3.110926\n",
       "\n",
       "[231 rows x 4 columns]"
      ]
     },
     "execution_count": 16,
     "metadata": {},
     "output_type": "execute_result"
    }
   ],
   "source": [
    "anxiety2_2017"
   ]
  },
  {
   "cell_type": "markdown",
   "id": "39c9c7f5-2607-41e1-b5ec-4e3e7e5c3fcb",
   "metadata": {},
   "source": [
    "We will drop the countries that do not have a valid code or contain NaN values, such as 'Andean Latin America"
   ]
  },
  {
   "cell_type": "code",
   "execution_count": 18,
   "id": "6a868d04-3ee4-4ab5-bcc1-d5c8c64b40d0",
   "metadata": {},
   "outputs": [
    {
     "data": {
      "text/html": [
       "<div>\n",
       "<style scoped>\n",
       "    .dataframe tbody tr th:only-of-type {\n",
       "        vertical-align: middle;\n",
       "    }\n",
       "\n",
       "    .dataframe tbody tr th {\n",
       "        vertical-align: top;\n",
       "    }\n",
       "\n",
       "    .dataframe thead th {\n",
       "        text-align: right;\n",
       "    }\n",
       "</style>\n",
       "<table border=\"1\" class=\"dataframe\">\n",
       "  <thead>\n",
       "    <tr style=\"text-align: right;\">\n",
       "      <th></th>\n",
       "      <th>Entity</th>\n",
       "      <th>Code</th>\n",
       "      <th>Year</th>\n",
       "      <th>Anxiety disorders (%)</th>\n",
       "    </tr>\n",
       "  </thead>\n",
       "  <tbody>\n",
       "    <tr>\n",
       "      <th>27</th>\n",
       "      <td>Afghanistan</td>\n",
       "      <td>AFG</td>\n",
       "      <td>2017</td>\n",
       "      <td>4.882481</td>\n",
       "    </tr>\n",
       "    <tr>\n",
       "      <th>55</th>\n",
       "      <td>Albania</td>\n",
       "      <td>ALB</td>\n",
       "      <td>2017</td>\n",
       "      <td>3.385245</td>\n",
       "    </tr>\n",
       "    <tr>\n",
       "      <th>83</th>\n",
       "      <td>Algeria</td>\n",
       "      <td>DZA</td>\n",
       "      <td>2017</td>\n",
       "      <td>5.065876</td>\n",
       "    </tr>\n",
       "    <tr>\n",
       "      <th>111</th>\n",
       "      <td>American Samoa</td>\n",
       "      <td>ASM</td>\n",
       "      <td>2017</td>\n",
       "      <td>3.315834</td>\n",
       "    </tr>\n",
       "    <tr>\n",
       "      <th>167</th>\n",
       "      <td>Andorra</td>\n",
       "      <td>AND</td>\n",
       "      <td>2017</td>\n",
       "      <td>5.305375</td>\n",
       "    </tr>\n",
       "    <tr>\n",
       "      <th>...</th>\n",
       "      <td>...</td>\n",
       "      <td>...</td>\n",
       "      <td>...</td>\n",
       "      <td>...</td>\n",
       "    </tr>\n",
       "    <tr>\n",
       "      <th>6271</th>\n",
       "      <td>Vietnam</td>\n",
       "      <td>VNM</td>\n",
       "      <td>2017</td>\n",
       "      <td>2.066871</td>\n",
       "    </tr>\n",
       "    <tr>\n",
       "      <th>6383</th>\n",
       "      <td>World</td>\n",
       "      <td>OWID_WRL</td>\n",
       "      <td>2017</td>\n",
       "      <td>3.764811</td>\n",
       "    </tr>\n",
       "    <tr>\n",
       "      <th>6411</th>\n",
       "      <td>Yemen</td>\n",
       "      <td>YEM</td>\n",
       "      <td>2017</td>\n",
       "      <td>4.857207</td>\n",
       "    </tr>\n",
       "    <tr>\n",
       "      <th>6439</th>\n",
       "      <td>Zambia</td>\n",
       "      <td>ZMB</td>\n",
       "      <td>2017</td>\n",
       "      <td>3.599714</td>\n",
       "    </tr>\n",
       "    <tr>\n",
       "      <th>6467</th>\n",
       "      <td>Zimbabwe</td>\n",
       "      <td>ZWE</td>\n",
       "      <td>2017</td>\n",
       "      <td>3.110926</td>\n",
       "    </tr>\n",
       "  </tbody>\n",
       "</table>\n",
       "<p>196 rows × 4 columns</p>\n",
       "</div>"
      ],
      "text/plain": [
       "              Entity      Code  Year  Anxiety disorders (%)\n",
       "27       Afghanistan       AFG  2017               4.882481\n",
       "55           Albania       ALB  2017               3.385245\n",
       "83           Algeria       DZA  2017               5.065876\n",
       "111   American Samoa       ASM  2017               3.315834\n",
       "167          Andorra       AND  2017               5.305375\n",
       "...              ...       ...   ...                    ...\n",
       "6271         Vietnam       VNM  2017               2.066871\n",
       "6383           World  OWID_WRL  2017               3.764811\n",
       "6411           Yemen       YEM  2017               4.857207\n",
       "6439          Zambia       ZMB  2017               3.599714\n",
       "6467        Zimbabwe       ZWE  2017               3.110926\n",
       "\n",
       "[196 rows x 4 columns]"
      ]
     },
     "execution_count": 18,
     "metadata": {},
     "output_type": "execute_result"
    }
   ],
   "source": [
    "anxiety2017 = anxiety2_2017.dropna(subset=['Code'])\n",
    "anxiety2017"
   ]
  },
  {
   "cell_type": "code",
   "execution_count": 19,
   "id": "46351799-0460-4511-9c78-5e83c1ce4748",
   "metadata": {},
   "outputs": [
    {
     "data": {
      "text/html": [
       "<div>\n",
       "<style scoped>\n",
       "    .dataframe tbody tr th:only-of-type {\n",
       "        vertical-align: middle;\n",
       "    }\n",
       "\n",
       "    .dataframe tbody tr th {\n",
       "        vertical-align: top;\n",
       "    }\n",
       "\n",
       "    .dataframe thead th {\n",
       "        text-align: right;\n",
       "    }\n",
       "</style>\n",
       "<table border=\"1\" class=\"dataframe\">\n",
       "  <thead>\n",
       "    <tr style=\"text-align: right;\">\n",
       "      <th></th>\n",
       "      <th>Country Code</th>\n",
       "      <th>Country Name</th>\n",
       "      <th>2017</th>\n",
       "    </tr>\n",
       "  </thead>\n",
       "  <tbody>\n",
       "    <tr>\n",
       "      <th>0</th>\n",
       "      <td>ABW</td>\n",
       "      <td>Aruba</td>\n",
       "      <td>29329.081747</td>\n",
       "    </tr>\n",
       "    <tr>\n",
       "      <th>1</th>\n",
       "      <td>AFE</td>\n",
       "      <td>Africa Eastern and Southern</td>\n",
       "      <td>1485.753579</td>\n",
       "    </tr>\n",
       "    <tr>\n",
       "      <th>2</th>\n",
       "      <td>AFG</td>\n",
       "      <td>Afghanistan</td>\n",
       "      <td>526.140801</td>\n",
       "    </tr>\n",
       "    <tr>\n",
       "      <th>3</th>\n",
       "      <td>AFW</td>\n",
       "      <td>Africa Western and Central</td>\n",
       "      <td>1590.555785</td>\n",
       "    </tr>\n",
       "    <tr>\n",
       "      <th>4</th>\n",
       "      <td>AGO</td>\n",
       "      <td>Angola</td>\n",
       "      <td>2439.374439</td>\n",
       "    </tr>\n",
       "    <tr>\n",
       "      <th>...</th>\n",
       "      <td>...</td>\n",
       "      <td>...</td>\n",
       "      <td>...</td>\n",
       "    </tr>\n",
       "    <tr>\n",
       "      <th>261</th>\n",
       "      <td>XKX</td>\n",
       "      <td>Kosovo</td>\n",
       "      <td>4009.353811</td>\n",
       "    </tr>\n",
       "    <tr>\n",
       "      <th>262</th>\n",
       "      <td>YEM</td>\n",
       "      <td>Yemen  Rep.</td>\n",
       "      <td>893.716501</td>\n",
       "    </tr>\n",
       "    <tr>\n",
       "      <th>263</th>\n",
       "      <td>ZAF</td>\n",
       "      <td>South Africa</td>\n",
       "      <td>6734.475153</td>\n",
       "    </tr>\n",
       "    <tr>\n",
       "      <th>264</th>\n",
       "      <td>ZMB</td>\n",
       "      <td>Zambia</td>\n",
       "      <td>1495.752138</td>\n",
       "    </tr>\n",
       "    <tr>\n",
       "      <th>265</th>\n",
       "      <td>ZWE</td>\n",
       "      <td>Zimbabwe</td>\n",
       "      <td>1192.107012</td>\n",
       "    </tr>\n",
       "  </tbody>\n",
       "</table>\n",
       "<p>266 rows × 3 columns</p>\n",
       "</div>"
      ],
      "text/plain": [
       "    Country Code                 Country Name          2017\n",
       "0            ABW                        Aruba  29329.081747\n",
       "1            AFE  Africa Eastern and Southern   1485.753579\n",
       "2            AFG                  Afghanistan    526.140801\n",
       "3            AFW   Africa Western and Central   1590.555785\n",
       "4            AGO                       Angola   2439.374439\n",
       "..           ...                          ...           ...\n",
       "261          XKX                       Kosovo   4009.353811\n",
       "262          YEM                  Yemen  Rep.    893.716501\n",
       "263          ZAF                 South Africa   6734.475153\n",
       "264          ZMB                       Zambia   1495.752138\n",
       "265          ZWE                     Zimbabwe   1192.107012\n",
       "\n",
       "[266 rows x 3 columns]"
      ]
     },
     "execution_count": 19,
     "metadata": {},
     "output_type": "execute_result"
    }
   ],
   "source": [
    "gdp_2017 = gdp_percapita[['Country Code', 'Country Name', '2017']]\n",
    "gdp_2017"
   ]
  },
  {
   "cell_type": "markdown",
   "id": "2687ca63-5086-4401-b6a3-67b788828e5e",
   "metadata": {},
   "source": [
    "It seems that the 'World' row has different codes in both datasets. Let's change it."
   ]
  },
  {
   "cell_type": "code",
   "execution_count": 21,
   "id": "c5d42fe2-9e71-4c5b-ab4e-d558aacafde3",
   "metadata": {},
   "outputs": [],
   "source": [
    "anxiety2017.loc[anxiety2017['Entity'] == 'World', 'Code'] = 'WLD'"
   ]
  },
  {
   "cell_type": "code",
   "execution_count": 22,
   "id": "46d6a543-cca5-4e71-a655-9f14a8e531cc",
   "metadata": {},
   "outputs": [
    {
     "data": {
      "text/html": [
       "<div>\n",
       "<style scoped>\n",
       "    .dataframe tbody tr th:only-of-type {\n",
       "        vertical-align: middle;\n",
       "    }\n",
       "\n",
       "    .dataframe tbody tr th {\n",
       "        vertical-align: top;\n",
       "    }\n",
       "\n",
       "    .dataframe thead th {\n",
       "        text-align: right;\n",
       "    }\n",
       "</style>\n",
       "<table border=\"1\" class=\"dataframe\">\n",
       "  <thead>\n",
       "    <tr style=\"text-align: right;\">\n",
       "      <th></th>\n",
       "      <th>Entity</th>\n",
       "      <th>Code</th>\n",
       "      <th>Year</th>\n",
       "      <th>Anxiety disorders (%)</th>\n",
       "    </tr>\n",
       "  </thead>\n",
       "  <tbody>\n",
       "    <tr>\n",
       "      <th>27</th>\n",
       "      <td>Afghanistan</td>\n",
       "      <td>AFG</td>\n",
       "      <td>2017</td>\n",
       "      <td>4.882481</td>\n",
       "    </tr>\n",
       "    <tr>\n",
       "      <th>55</th>\n",
       "      <td>Albania</td>\n",
       "      <td>ALB</td>\n",
       "      <td>2017</td>\n",
       "      <td>3.385245</td>\n",
       "    </tr>\n",
       "    <tr>\n",
       "      <th>83</th>\n",
       "      <td>Algeria</td>\n",
       "      <td>DZA</td>\n",
       "      <td>2017</td>\n",
       "      <td>5.065876</td>\n",
       "    </tr>\n",
       "    <tr>\n",
       "      <th>111</th>\n",
       "      <td>American Samoa</td>\n",
       "      <td>ASM</td>\n",
       "      <td>2017</td>\n",
       "      <td>3.315834</td>\n",
       "    </tr>\n",
       "    <tr>\n",
       "      <th>167</th>\n",
       "      <td>Andorra</td>\n",
       "      <td>AND</td>\n",
       "      <td>2017</td>\n",
       "      <td>5.305375</td>\n",
       "    </tr>\n",
       "    <tr>\n",
       "      <th>...</th>\n",
       "      <td>...</td>\n",
       "      <td>...</td>\n",
       "      <td>...</td>\n",
       "      <td>...</td>\n",
       "    </tr>\n",
       "    <tr>\n",
       "      <th>6271</th>\n",
       "      <td>Vietnam</td>\n",
       "      <td>VNM</td>\n",
       "      <td>2017</td>\n",
       "      <td>2.066871</td>\n",
       "    </tr>\n",
       "    <tr>\n",
       "      <th>6383</th>\n",
       "      <td>World</td>\n",
       "      <td>WLD</td>\n",
       "      <td>2017</td>\n",
       "      <td>3.764811</td>\n",
       "    </tr>\n",
       "    <tr>\n",
       "      <th>6411</th>\n",
       "      <td>Yemen</td>\n",
       "      <td>YEM</td>\n",
       "      <td>2017</td>\n",
       "      <td>4.857207</td>\n",
       "    </tr>\n",
       "    <tr>\n",
       "      <th>6439</th>\n",
       "      <td>Zambia</td>\n",
       "      <td>ZMB</td>\n",
       "      <td>2017</td>\n",
       "      <td>3.599714</td>\n",
       "    </tr>\n",
       "    <tr>\n",
       "      <th>6467</th>\n",
       "      <td>Zimbabwe</td>\n",
       "      <td>ZWE</td>\n",
       "      <td>2017</td>\n",
       "      <td>3.110926</td>\n",
       "    </tr>\n",
       "  </tbody>\n",
       "</table>\n",
       "<p>196 rows × 4 columns</p>\n",
       "</div>"
      ],
      "text/plain": [
       "              Entity Code  Year  Anxiety disorders (%)\n",
       "27       Afghanistan  AFG  2017               4.882481\n",
       "55           Albania  ALB  2017               3.385245\n",
       "83           Algeria  DZA  2017               5.065876\n",
       "111   American Samoa  ASM  2017               3.315834\n",
       "167          Andorra  AND  2017               5.305375\n",
       "...              ...  ...   ...                    ...\n",
       "6271         Vietnam  VNM  2017               2.066871\n",
       "6383           World  WLD  2017               3.764811\n",
       "6411           Yemen  YEM  2017               4.857207\n",
       "6439          Zambia  ZMB  2017               3.599714\n",
       "6467        Zimbabwe  ZWE  2017               3.110926\n",
       "\n",
       "[196 rows x 4 columns]"
      ]
     },
     "execution_count": 22,
     "metadata": {},
     "output_type": "execute_result"
    }
   ],
   "source": [
    "anxiety2017"
   ]
  },
  {
   "cell_type": "markdown",
   "id": "3c2d314b-0875-455e-ab62-a90757c9d818",
   "metadata": {},
   "source": [
    "Now, let's merge both datasets using **Country Code** as **the composite key**."
   ]
  },
  {
   "cell_type": "code",
   "execution_count": 24,
   "id": "44680755-a5bd-4eb2-8236-6b47f66e9d41",
   "metadata": {},
   "outputs": [
    {
     "data": {
      "text/html": [
       "<div>\n",
       "<style scoped>\n",
       "    .dataframe tbody tr th:only-of-type {\n",
       "        vertical-align: middle;\n",
       "    }\n",
       "\n",
       "    .dataframe tbody tr th {\n",
       "        vertical-align: top;\n",
       "    }\n",
       "\n",
       "    .dataframe thead th {\n",
       "        text-align: right;\n",
       "    }\n",
       "</style>\n",
       "<table border=\"1\" class=\"dataframe\">\n",
       "  <thead>\n",
       "    <tr style=\"text-align: right;\">\n",
       "      <th></th>\n",
       "      <th>Entity</th>\n",
       "      <th>Code</th>\n",
       "      <th>Year</th>\n",
       "      <th>Anxiety disorders (%)</th>\n",
       "      <th>Country Code</th>\n",
       "      <th>Country Name</th>\n",
       "      <th>2017</th>\n",
       "    </tr>\n",
       "  </thead>\n",
       "  <tbody>\n",
       "    <tr>\n",
       "      <th>0</th>\n",
       "      <td>Afghanistan</td>\n",
       "      <td>AFG</td>\n",
       "      <td>2017</td>\n",
       "      <td>4.882481</td>\n",
       "      <td>AFG</td>\n",
       "      <td>Afghanistan</td>\n",
       "      <td>526.140801</td>\n",
       "    </tr>\n",
       "    <tr>\n",
       "      <th>1</th>\n",
       "      <td>Albania</td>\n",
       "      <td>ALB</td>\n",
       "      <td>2017</td>\n",
       "      <td>3.385245</td>\n",
       "      <td>ALB</td>\n",
       "      <td>Albania</td>\n",
       "      <td>4531.032207</td>\n",
       "    </tr>\n",
       "    <tr>\n",
       "      <th>2</th>\n",
       "      <td>Algeria</td>\n",
       "      <td>DZA</td>\n",
       "      <td>2017</td>\n",
       "      <td>5.065876</td>\n",
       "      <td>DZA</td>\n",
       "      <td>Algeria</td>\n",
       "      <td>4615.868744</td>\n",
       "    </tr>\n",
       "    <tr>\n",
       "      <th>3</th>\n",
       "      <td>American Samoa</td>\n",
       "      <td>ASM</td>\n",
       "      <td>2017</td>\n",
       "      <td>3.315834</td>\n",
       "      <td>ASM</td>\n",
       "      <td>American Samoa</td>\n",
       "      <td>12372.884783</td>\n",
       "    </tr>\n",
       "    <tr>\n",
       "      <th>4</th>\n",
       "      <td>Andorra</td>\n",
       "      <td>AND</td>\n",
       "      <td>2017</td>\n",
       "      <td>5.305375</td>\n",
       "      <td>AND</td>\n",
       "      <td>Andorra</td>\n",
       "      <td>40632.231552</td>\n",
       "    </tr>\n",
       "    <tr>\n",
       "      <th>...</th>\n",
       "      <td>...</td>\n",
       "      <td>...</td>\n",
       "      <td>...</td>\n",
       "      <td>...</td>\n",
       "      <td>...</td>\n",
       "      <td>...</td>\n",
       "      <td>...</td>\n",
       "    </tr>\n",
       "    <tr>\n",
       "      <th>190</th>\n",
       "      <td>Vietnam</td>\n",
       "      <td>VNM</td>\n",
       "      <td>2017</td>\n",
       "      <td>2.066871</td>\n",
       "      <td>VNM</td>\n",
       "      <td>Viet Nam</td>\n",
       "      <td>2992.071532</td>\n",
       "    </tr>\n",
       "    <tr>\n",
       "      <th>191</th>\n",
       "      <td>World</td>\n",
       "      <td>WLD</td>\n",
       "      <td>2017</td>\n",
       "      <td>3.764811</td>\n",
       "      <td>WLD</td>\n",
       "      <td>World</td>\n",
       "      <td>10762.804585</td>\n",
       "    </tr>\n",
       "    <tr>\n",
       "      <th>192</th>\n",
       "      <td>Yemen</td>\n",
       "      <td>YEM</td>\n",
       "      <td>2017</td>\n",
       "      <td>4.857207</td>\n",
       "      <td>YEM</td>\n",
       "      <td>Yemen  Rep.</td>\n",
       "      <td>893.716501</td>\n",
       "    </tr>\n",
       "    <tr>\n",
       "      <th>193</th>\n",
       "      <td>Zambia</td>\n",
       "      <td>ZMB</td>\n",
       "      <td>2017</td>\n",
       "      <td>3.599714</td>\n",
       "      <td>ZMB</td>\n",
       "      <td>Zambia</td>\n",
       "      <td>1495.752138</td>\n",
       "    </tr>\n",
       "    <tr>\n",
       "      <th>194</th>\n",
       "      <td>Zimbabwe</td>\n",
       "      <td>ZWE</td>\n",
       "      <td>2017</td>\n",
       "      <td>3.110926</td>\n",
       "      <td>ZWE</td>\n",
       "      <td>Zimbabwe</td>\n",
       "      <td>1192.107012</td>\n",
       "    </tr>\n",
       "  </tbody>\n",
       "</table>\n",
       "<p>195 rows × 7 columns</p>\n",
       "</div>"
      ],
      "text/plain": [
       "             Entity Code  Year  Anxiety disorders (%) Country Code  \\\n",
       "0       Afghanistan  AFG  2017               4.882481          AFG   \n",
       "1           Albania  ALB  2017               3.385245          ALB   \n",
       "2           Algeria  DZA  2017               5.065876          DZA   \n",
       "3    American Samoa  ASM  2017               3.315834          ASM   \n",
       "4           Andorra  AND  2017               5.305375          AND   \n",
       "..              ...  ...   ...                    ...          ...   \n",
       "190         Vietnam  VNM  2017               2.066871          VNM   \n",
       "191           World  WLD  2017               3.764811          WLD   \n",
       "192           Yemen  YEM  2017               4.857207          YEM   \n",
       "193          Zambia  ZMB  2017               3.599714          ZMB   \n",
       "194        Zimbabwe  ZWE  2017               3.110926          ZWE   \n",
       "\n",
       "       Country Name          2017  \n",
       "0       Afghanistan    526.140801  \n",
       "1           Albania   4531.032207  \n",
       "2           Algeria   4615.868744  \n",
       "3    American Samoa  12372.884783  \n",
       "4           Andorra  40632.231552  \n",
       "..              ...           ...  \n",
       "190        Viet Nam   2992.071532  \n",
       "191           World  10762.804585  \n",
       "192     Yemen  Rep.    893.716501  \n",
       "193          Zambia   1495.752138  \n",
       "194        Zimbabwe   1192.107012  \n",
       "\n",
       "[195 rows x 7 columns]"
      ]
     },
     "execution_count": 24,
     "metadata": {},
     "output_type": "execute_result"
    }
   ],
   "source": [
    "merged_data = pd.merge(left=anxiety2017, right=gdp_2017, left_on=\"Code\", right_on=\"Country Code\")\n",
    "merged_data"
   ]
  },
  {
   "cell_type": "markdown",
   "id": "e860d1eb-263a-43d8-a885-2b9e2f77ca59",
   "metadata": {},
   "source": [
    "### Data Visualization"
   ]
  },
  {
   "cell_type": "markdown",
   "id": "597ba728-719e-4a26-ac1e-818b5f81fb3f",
   "metadata": {},
   "source": [
    "Let's compare our Anxiety Disorder Prevalence data with each country's GDP per capita for 2017."
   ]
  },
  {
   "cell_type": "code",
   "execution_count": 27,
   "id": "98487ea7-ff0b-4378-9ea4-1a1af1336293",
   "metadata": {},
   "outputs": [
    {
     "data": {
      "text/html": [
       "        <script type=\"text/javascript\">\n",
       "        window.PlotlyConfig = {MathJaxConfig: 'local'};\n",
       "        if (window.MathJax && window.MathJax.Hub && window.MathJax.Hub.Config) {window.MathJax.Hub.Config({SVG: {font: \"STIX-Web\"}});}\n",
       "        if (typeof require !== 'undefined') {\n",
       "        require.undef(\"plotly\");\n",
       "        requirejs.config({\n",
       "            paths: {\n",
       "                'plotly': ['https://cdn.plot.ly/plotly-2.32.0.min']\n",
       "            }\n",
       "        });\n",
       "        require(['plotly'], function(Plotly) {\n",
       "            window._Plotly = Plotly;\n",
       "        });\n",
       "        }\n",
       "        </script>\n",
       "        "
      ]
     },
     "metadata": {},
     "output_type": "display_data"
    },
    {
     "data": {
      "application/vnd.plotly.v1+json": {
       "config": {
        "plotlyServerURL": "https://plot.ly"
       },
       "data": [
        {
         "hovertemplate": "2017=%{x}<br>Anxiety disorders (%)=%{y}<extra></extra>",
         "legendgroup": "",
         "marker": {
          "color": "#636efa",
          "symbol": "circle"
         },
         "mode": "markers",
         "name": "",
         "orientation": "v",
         "showlegend": false,
         "type": "scatter",
         "x": [
          526.140801025756,
          4531.03220675893,
          4615.86874364885,
          12372.8847825647,
          40632.2315521995,
          2439.37443934002,
          16803.8702340001,
          14613.0356486571,
          4041.99507105058,
          53954.553494614,
          47429.1584564387,
          4147.1981423222,
          30666.8838654704,
          24315.4975906804,
          1815.47222007199,
          17910.7830952014,
          5785.53397723676,
          44198.4823908691,
          6049.3919477765,
          1095.27445827386,
          111820.581466347,
          3427.17384540098,
          3280.0082139387,
          5327.39230422044,
          6705.34084567283,
          9896.71889500528,
          28186.9867351423,
          8381.88134621669,
          711.184543433623,
          244.14542219677,
          1400.89926522987,
          1479.86222292144,
          45129.628116623,
          3534.34357478817,
          414.74032227842,
          662.897472963315,
          15034.0584350711,
          8817.04560829162,
          6449.97098770131,
          1414.58668992431,
          2227.7326089376,
          12118.1336248174,
          2113.34152379369,
          13655.4798216229,
          8543.33006731328,
          26697.005859375,
          20636.199952435,
          451.089088517319,
          57610.0981801135,
          2655.73321960188,
          7408.09130082314,
          7513.49798180543,
          6256.68301935971,
          2439.96728439968,
          3986.04901435439,
          8410.39797433692,
          null,
          20437.765376736,
          755.752644348666,
          5825.19966886254,
          46412.1364777169,
          38781.0494870836,
          6975.69519191402,
          632.001024153219,
          4418.75206546679,
          44652.5891722719,
          1998.72279840363,
          18582.0893411631,
          50765.7494665372,
          9309.26129609568,
          35663.0250406273,
          4454.02450948165,
          843.464279230956,
          781.975888258504,
          6220.97856820609,
          1389.35862463561,
          2403.30608839303,
          14621.2395956755,
          72010.1490316258,
          1957.96981331058,
          3839.78507460491,
          5758.59072766807,
          4725.19357334032,
          70150.7370157965,
          41114.7817082553,
          32406.7203150134,
          5273.1490130852,
          38834.0529341227,
          4073.11640314668,
          9247.58067886159,
          1675.98842173012,
          1852.99234427752,
          29258.266295535,
          1242.77022029305,
          2439.46241167184,
          15695.1151541059,
          8679.89742212366,
          1062.71243340258,
          706.892691974846,
          10529.1163503303,
          16885.4073948373,
          110193.213797228,
          5955.2973863451,
          503.498058680237,
          500.165547203323,
          9979.70447282371,
          10194.746141387,
          795.682801553765,
          28813.1853396512,
          4512.59276329667,
          1634.64215833074,
          10841.6847754844,
          9693.33009082487,
          3250.9281898035,
          3453.26727720294,
          3708.24822134669,
          7803.35824465203,
          3288.50268554688,
          464.294721264472,
          1263.24605485191,
          5453.57062341501,
          1027.96547660189,
          48675.2223350213,
          42913.186956185,
          2127.28572022576,
          514.543398016347,
          1941.87947889475,
          null,
          30751.6410731534,
          76131.8384032764,
          17802.5751178049,
          1567.6406123353,
          3620.36048715937,
          15185.9724813803,
          2495.14077312932,
          6136.0583014952,
          6676.30879274916,
          3077.43441889625,
          13815.501164767,
          21490.429863104,
          31108.7527508912,
          59407.6980498883,
          10727.9708633184,
          10658.9130859375,
          756.547641107379,
          11280.5930341194,
          7996.67207402003,
          4261.64034322214,
          1547.82270967205,
          20910.4821334146,
          1385.1992136057,
          6292.5465490011,
          17480.3651911372,
          484.456128767591,
          61162.0973932771,
          17585.197002257,
          23514.0254604147,
          2283.57905127379,
          555.185123613069,
          6734.47515312493,
          31600.7358741365,
          null,
          28185.3213671969,
          4388.20190593728,
          1014.84246826172,
          6112.88301430134,
          3824.04678338499,
          53791.5087298403,
          82254.3769269767,
          862.325327610986,
          844.365216932115,
          975.904663085938,
          6436.78965986703,
          1285.5239757568,
          813.394787167149,
          4367.25660339844,
          16258.7489291438,
          3569.71883883673,
          10695.550196231,
          6354.53282979422,
          766.177604015442,
          2638.32543945313,
          43063.9674785596,
          40572.1214823783,
          60322.2614241747,
          35365.0693039774,
          18995.3970195554,
          1916.76462520814,
          3032.19702965604,
          null,
          2992.07153198845,
          10762.8045848545,
          893.716500927815,
          1495.75213841021,
          1192.10701198862
         ],
         "xaxis": "x",
         "y": [
          4.882481275,
          3.385244537,
          5.065875684,
          3.315833755,
          5.305374693,
          3.296906303,
          4.604823443,
          6.283677861,
          2.592812824,
          6.584301177,
          5.341275395,
          2.583156736,
          4.655024159,
          4.67330436,
          4.283988502,
          4.663044089,
          2.946931986,
          5.212644644,
          4.568547732,
          2.905293731,
          4.692815952,
          3.80143152,
          4.243625161,
          3.402636085,
          3.506339034,
          6.069179504,
          3.621414495,
          3.587520801,
          2.900238994,
          3.585760098,
          3.289745188,
          2.908662652,
          5.178218395,
          2.998977228,
          3.249990166,
          2.88704925,
          6.272084313,
          3.030968888,
          2.514802773,
          3.649877002,
          3.270744943,
          2.936829335,
          2.879312053,
          3.447605933,
          4.62359397,
          5.304908404,
          3.443600991,
          3.25156993,
          5.31463455,
          3.570649677,
          4.544903735,
          4.55830899,
          4.305357159,
          4.361022807,
          2.945220376,
          3.278990593,
          3.66566808,
          2.962243765,
          3.731997168,
          3.282447494,
          3.752061878,
          6.626710211,
          3.299512251,
          2.913375786,
          2.602455661,
          6.540495803,
          2.936416281,
          5.790227945,
          5.722163064,
          4.530095404,
          3.308606015,
          2.906946651,
          2.901304287,
          2.915176813,
          4.547027007,
          4.518425341,
          2.875551355,
          3.454656625,
          5.290987801,
          3.301938925,
          3.280219792,
          6.900899934,
          4.722673341,
          5.839092485,
          3.063078073,
          5.626121065,
          4.577527559,
          3.569054285,
          4.888350296,
          2.607805513,
          3.643352824,
          3.284167632,
          4.967279349,
          2.562741581,
          4.224293772,
          2.944949817,
          6.074355557,
          3.481456059,
          2.881373499,
          4.97646043,
          2.937224166,
          5.316516035,
          3.391595424,
          3.583301279,
          3.660937095,
          4.340782526,
          3.165131868,
          2.888671597,
          5.317984358,
          3.238920803,
          2.93346051,
          3.322963457,
          3.186326412,
          3.254044983,
          2.887918371,
          2.575179896,
          3.423966544,
          4.986825553,
          3.672136391,
          3.313935835,
          3.508307546,
          3.879454605,
          6.620242194,
          8.539931497,
          2.912300031,
          2.891358021,
          2.915836965,
          3.240918411,
          3.300622423,
          7.58550276,
          4.519612245,
          3.823379209,
          4.985536173,
          2.89177947,
          3.192716535,
          6.015213899,
          4.259925286,
          3.269720163,
          3.461075016,
          5.383260632,
          4.683653853,
          4.336059258,
          3.227185705,
          2.945051049,
          3.702435499,
          4.593078109,
          4.524136955,
          3.255973091,
          2.92152355,
          4.754236342,
          2.899331044,
          3.404671637,
          3.302670391,
          2.880724531,
          3.730467149,
          3.444251108,
          3.449772721,
          3.214827959,
          3.568698397,
          3.992829963,
          3.778004548,
          3.553077372,
          5.280278593,
          3.369917096,
          4.899048237,
          4.568070363,
          3.484456287,
          5.293836611,
          5.359393141,
          4.974984991,
          2.524336096,
          3.636165086,
          3.329593879,
          3.23266099,
          2.910944851,
          3.297507338,
          4.629351424,
          5.07236144,
          3.913400441,
          2.567310701,
          3.526626139,
          2.941769565,
          4.263912049,
          4.649860931,
          6.635055035,
          4.718337738,
          6.317737652,
          2.560435029,
          3.218816111,
          2.866789313,
          2.066871058,
          3.764810528,
          4.857207442,
          3.599713942,
          3.1109256
         ],
         "yaxis": "y"
        },
        {
         "hovertemplate": "<b>OLS trendline</b><br>Anxiety disorders (%) = 3.0542e-05 * 2017 + 3.53417<br>R<sup>2</sup>=0.288155<br><br>2017=%{x}<br>Anxiety disorders (%)=%{y} <b>(trend)</b><extra></extra>",
         "legendgroup": "",
         "marker": {
          "color": "#636efa",
          "symbol": "circle"
         },
         "mode": "lines",
         "name": "",
         "showlegend": false,
         "type": "scatter",
         "x": [
          244.14542219677,
          414.74032227842,
          451.089088517319,
          464.294721264472,
          484.456128767591,
          500.165547203323,
          503.498058680237,
          514.543398016347,
          526.140801025756,
          555.185123613069,
          632.001024153219,
          662.897472963315,
          706.892691974846,
          711.184543433623,
          755.752644348666,
          756.547641107379,
          766.177604015442,
          781.975888258504,
          795.682801553765,
          813.394787167149,
          843.464279230956,
          844.365216932115,
          862.325327610986,
          893.716500927815,
          975.904663085938,
          1014.84246826172,
          1027.96547660189,
          1062.71243340258,
          1095.27445827386,
          1192.10701198862,
          1242.77022029305,
          1263.24605485191,
          1285.5239757568,
          1385.1992136057,
          1389.35862463561,
          1400.89926522987,
          1414.58668992431,
          1479.86222292144,
          1495.75213841021,
          1547.82270967205,
          1567.6406123353,
          1634.64215833074,
          1675.98842173012,
          1815.47222007199,
          1852.99234427752,
          1916.76462520814,
          1941.87947889475,
          1957.96981331058,
          1998.72279840363,
          2113.34152379369,
          2127.28572022576,
          2227.7326089376,
          2283.57905127379,
          2403.30608839303,
          2439.37443934002,
          2439.46241167184,
          2439.96728439968,
          2495.14077312932,
          2638.32543945313,
          2655.73321960188,
          2992.07153198845,
          3032.19702965604,
          3077.43441889625,
          3250.9281898035,
          3280.0082139387,
          3288.50268554688,
          3427.17384540098,
          3453.26727720294,
          3534.34357478817,
          3569.71883883673,
          3620.36048715937,
          3708.24822134669,
          3824.04678338499,
          3839.78507460491,
          3986.04901435439,
          4041.99507105058,
          4073.11640314668,
          4147.1981423222,
          4261.64034322214,
          4367.25660339844,
          4388.20190593728,
          4418.75206546679,
          4454.02450948165,
          4512.59276329667,
          4531.03220675893,
          4615.86874364885,
          4725.19357334032,
          5273.1490130852,
          5327.39230422044,
          5453.57062341501,
          5758.59072766807,
          5785.53397723676,
          5825.19966886254,
          5955.2973863451,
          6049.3919477765,
          6112.88301430134,
          6136.0583014952,
          6220.97856820609,
          6256.68301935971,
          6292.5465490011,
          6354.53282979422,
          6436.78965986703,
          6449.97098770131,
          6676.30879274916,
          6705.34084567283,
          6734.47515312493,
          6975.69519191402,
          7408.09130082314,
          7513.49798180543,
          7803.35824465203,
          7996.67207402003,
          8381.88134621669,
          8410.39797433692,
          8543.33006731328,
          8679.89742212366,
          8817.04560829162,
          9247.58067886159,
          9309.26129609568,
          9693.33009082487,
          9896.71889500528,
          9979.70447282371,
          10194.746141387,
          10529.1163503303,
          10658.9130859375,
          10695.550196231,
          10727.9708633184,
          10762.8045848545,
          10841.6847754844,
          11280.5930341194,
          12118.1336248174,
          12372.8847825647,
          13655.4798216229,
          13815.501164767,
          14613.0356486571,
          14621.2395956755,
          15034.0584350711,
          15185.9724813803,
          15695.1151541059,
          16258.7489291438,
          16803.8702340001,
          16885.4073948373,
          17480.3651911372,
          17585.197002257,
          17802.5751178049,
          17910.7830952014,
          18582.0893411631,
          18995.3970195554,
          20437.765376736,
          20636.199952435,
          20910.4821334146,
          21490.429863104,
          23514.0254604147,
          24315.4975906804,
          26697.005859375,
          28185.3213671969,
          28186.9867351423,
          28813.1853396512,
          29258.266295535,
          30666.8838654704,
          30751.6410731534,
          31108.7527508912,
          31600.7358741365,
          32406.7203150134,
          35365.0693039774,
          35663.0250406273,
          38781.0494870836,
          38834.0529341227,
          40572.1214823783,
          40632.2315521995,
          41114.7817082553,
          42913.186956185,
          43063.9674785596,
          44198.4823908691,
          44652.5891722719,
          45129.628116623,
          46412.1364777169,
          47429.1584564387,
          48675.2223350213,
          50765.7494665372,
          53791.5087298403,
          53954.553494614,
          57610.0981801135,
          59407.6980498883,
          60322.2614241747,
          61162.0973932771,
          70150.7370157965,
          72010.1490316258,
          76131.8384032764,
          82254.3769269767,
          110193.213797228,
          111820.581466347
         ],
         "xaxis": "x",
         "y": [
          3.541624866566908,
          3.546835180269014,
          3.5479453451959757,
          3.548348671961398,
          3.548964442173268,
          3.54944423962377,
          3.5495460212725902,
          3.5498833683026585,
          3.5502375764752347,
          3.551124648901624,
          3.5534707620558414,
          3.5544144021676187,
          3.5557581052462757,
          3.5558891870807994,
          3.5572503871328722,
          3.5572746679437466,
          3.557568786511574,
          3.5580512981037846,
          3.558469934992236,
          3.5590108948995294,
          3.5599292780776928,
          3.559956794539479,
          3.5605053326887246,
          3.5614640826887514,
          3.563974275591578,
          3.5651635150104597,
          3.565564318259179,
          3.5666255606822435,
          3.5676200708597103,
          3.570577533135479,
          3.572124890109778,
          3.572750263560643,
          3.57343067637773,
          3.5764749599833725,
          3.5766019968190075,
          3.5769544713524817,
          3.5773725130195997,
          3.5793661599798807,
          3.579851470175888,
          3.5814418108648076,
          3.582047089743273,
          3.5840934526356882,
          3.5853562512458317,
          3.5896163689010168,
          3.590762309472272,
          3.592710044070366,
          3.5934771025593775,
          3.5939685339552643,
          3.5952132126445475,
          3.5987139006201665,
          3.599139784616113,
          3.602207636001698,
          3.603913299439344,
          3.6075700055994715,
          3.6086716060755792,
          3.608674292928736,
          3.6086897127642086,
          3.6103748228359835,
          3.6147479724935723,
          3.6152796413499617,
          3.62555209449324,
          3.626777608445891,
          3.628159249918719,
          3.6334581010060347,
          3.6343462638299915,
          3.6346057021941576,
          3.638841000224339,
          3.6396379464706077,
          3.6421141807778596,
          3.6431946129765924,
          3.644741311465389,
          3.647425580839585,
          3.650962303415603,
          3.6514429826994013,
          3.6559101796029196,
          3.657618885464838,
          3.658569393967557,
          3.660832000297039,
          3.6643272968572687,
          3.6675530313153235,
          3.668192743268967,
          3.6691258070048813,
          3.6702030988715753,
          3.671991891943436,
          3.6725550698865317,
          3.67514614951661,
          3.678485151197488,
          3.6952208199336565,
          3.6968775198872543,
          3.7007312612657683,
          3.710047192913472,
          3.710870094315213,
          3.7120815648602434,
          3.71605501259923,
          3.7189288510462473,
          3.720867996786931,
          3.721575816987644,
          3.724169453896007,
          3.7252599401355297,
          3.7263552849542028,
          3.728248471491458,
          3.7307607616514513,
          3.731163346095617,
          3.738076160994427,
          3.7389628586804426,
          3.739852679426821,
          3.747220027880519,
          3.760426280646037,
          3.76364561413111,
          3.772498533523676,
          3.778402729331878,
          3.7901678005511457,
          3.7910387561199324,
          3.795098771426092,
          3.799269814990046,
          3.8034585983198403,
          3.816608011205889,
          3.818491862159085,
          3.8302221008870365,
          3.836434006827771,
          3.838968554419625,
          3.84553636243559,
          3.8557487057143134,
          3.8597129608573404,
          3.8608319323956244,
          3.861822125220123,
          3.862886017613905,
          3.865295178367638,
          3.8787003253728467,
          3.9042805110272543,
          3.912061127254368,
          3.951234176994188,
          3.9561215528560343,
          3.980479870996411,
          3.980730436151295,
          3.9933387594620204,
          3.997978522061303,
          4.013528770297091,
          4.0307432871416395,
          4.047392395659205,
          4.049882705663418,
          4.068053921548256,
          4.071255697343621,
          4.077894865181786,
          4.081199755931958,
          4.101702808074604,
          4.1143260615181845,
          4.158378911933439,
          4.164439505704069,
          4.172816638930898,
          4.19052941698616,
          4.252334124296537,
          4.276812706130934,
          4.34954879119631,
          4.395004960634844,
          4.395055824344256,
          4.41418119777424,
          4.4277748714531,
          4.4707969044807525,
          4.47338556123621,
          4.48429247502325,
          4.499318635869928,
          4.523935032807793,
          4.61428900156907,
          4.623389173124872,
          4.718619953699773,
          4.720238786303998,
          4.773322919345732,
          4.775158802600589,
          4.7898968615276,
          4.844823799558823,
          4.849428942041763,
          4.884079324849342,
          4.897948665516794,
          4.912518400878174,
          4.951688803297442,
          4.982750713990791,
          5.020808028114314,
          5.084656960015258,
          5.177069775060238,
          5.182049492341061,
          5.293697229491485,
          5.348599569642971,
          5.376532187078827,
          5.402182478237832,
          5.6767137342489455,
          5.733503942510147,
          5.859388682315718,
          6.046383406931984,
          6.8996920609204775,
          6.949395164944788
         ],
         "yaxis": "y"
        }
       ],
       "layout": {
        "autosize": true,
        "legend": {
         "tracegroupgap": 0
        },
        "template": {
         "data": {
          "bar": [
           {
            "error_x": {
             "color": "#2a3f5f"
            },
            "error_y": {
             "color": "#2a3f5f"
            },
            "marker": {
             "line": {
              "color": "#E5ECF6",
              "width": 0.5
             },
             "pattern": {
              "fillmode": "overlay",
              "size": 10,
              "solidity": 0.2
             }
            },
            "type": "bar"
           }
          ],
          "barpolar": [
           {
            "marker": {
             "line": {
              "color": "#E5ECF6",
              "width": 0.5
             },
             "pattern": {
              "fillmode": "overlay",
              "size": 10,
              "solidity": 0.2
             }
            },
            "type": "barpolar"
           }
          ],
          "carpet": [
           {
            "aaxis": {
             "endlinecolor": "#2a3f5f",
             "gridcolor": "white",
             "linecolor": "white",
             "minorgridcolor": "white",
             "startlinecolor": "#2a3f5f"
            },
            "baxis": {
             "endlinecolor": "#2a3f5f",
             "gridcolor": "white",
             "linecolor": "white",
             "minorgridcolor": "white",
             "startlinecolor": "#2a3f5f"
            },
            "type": "carpet"
           }
          ],
          "choropleth": [
           {
            "colorbar": {
             "outlinewidth": 0,
             "ticks": ""
            },
            "type": "choropleth"
           }
          ],
          "contour": [
           {
            "colorbar": {
             "outlinewidth": 0,
             "ticks": ""
            },
            "colorscale": [
             [
              0,
              "#0d0887"
             ],
             [
              0.1111111111111111,
              "#46039f"
             ],
             [
              0.2222222222222222,
              "#7201a8"
             ],
             [
              0.3333333333333333,
              "#9c179e"
             ],
             [
              0.4444444444444444,
              "#bd3786"
             ],
             [
              0.5555555555555556,
              "#d8576b"
             ],
             [
              0.6666666666666666,
              "#ed7953"
             ],
             [
              0.7777777777777778,
              "#fb9f3a"
             ],
             [
              0.8888888888888888,
              "#fdca26"
             ],
             [
              1,
              "#f0f921"
             ]
            ],
            "type": "contour"
           }
          ],
          "contourcarpet": [
           {
            "colorbar": {
             "outlinewidth": 0,
             "ticks": ""
            },
            "type": "contourcarpet"
           }
          ],
          "heatmap": [
           {
            "colorbar": {
             "outlinewidth": 0,
             "ticks": ""
            },
            "colorscale": [
             [
              0,
              "#0d0887"
             ],
             [
              0.1111111111111111,
              "#46039f"
             ],
             [
              0.2222222222222222,
              "#7201a8"
             ],
             [
              0.3333333333333333,
              "#9c179e"
             ],
             [
              0.4444444444444444,
              "#bd3786"
             ],
             [
              0.5555555555555556,
              "#d8576b"
             ],
             [
              0.6666666666666666,
              "#ed7953"
             ],
             [
              0.7777777777777778,
              "#fb9f3a"
             ],
             [
              0.8888888888888888,
              "#fdca26"
             ],
             [
              1,
              "#f0f921"
             ]
            ],
            "type": "heatmap"
           }
          ],
          "heatmapgl": [
           {
            "colorbar": {
             "outlinewidth": 0,
             "ticks": ""
            },
            "colorscale": [
             [
              0,
              "#0d0887"
             ],
             [
              0.1111111111111111,
              "#46039f"
             ],
             [
              0.2222222222222222,
              "#7201a8"
             ],
             [
              0.3333333333333333,
              "#9c179e"
             ],
             [
              0.4444444444444444,
              "#bd3786"
             ],
             [
              0.5555555555555556,
              "#d8576b"
             ],
             [
              0.6666666666666666,
              "#ed7953"
             ],
             [
              0.7777777777777778,
              "#fb9f3a"
             ],
             [
              0.8888888888888888,
              "#fdca26"
             ],
             [
              1,
              "#f0f921"
             ]
            ],
            "type": "heatmapgl"
           }
          ],
          "histogram": [
           {
            "marker": {
             "pattern": {
              "fillmode": "overlay",
              "size": 10,
              "solidity": 0.2
             }
            },
            "type": "histogram"
           }
          ],
          "histogram2d": [
           {
            "colorbar": {
             "outlinewidth": 0,
             "ticks": ""
            },
            "colorscale": [
             [
              0,
              "#0d0887"
             ],
             [
              0.1111111111111111,
              "#46039f"
             ],
             [
              0.2222222222222222,
              "#7201a8"
             ],
             [
              0.3333333333333333,
              "#9c179e"
             ],
             [
              0.4444444444444444,
              "#bd3786"
             ],
             [
              0.5555555555555556,
              "#d8576b"
             ],
             [
              0.6666666666666666,
              "#ed7953"
             ],
             [
              0.7777777777777778,
              "#fb9f3a"
             ],
             [
              0.8888888888888888,
              "#fdca26"
             ],
             [
              1,
              "#f0f921"
             ]
            ],
            "type": "histogram2d"
           }
          ],
          "histogram2dcontour": [
           {
            "colorbar": {
             "outlinewidth": 0,
             "ticks": ""
            },
            "colorscale": [
             [
              0,
              "#0d0887"
             ],
             [
              0.1111111111111111,
              "#46039f"
             ],
             [
              0.2222222222222222,
              "#7201a8"
             ],
             [
              0.3333333333333333,
              "#9c179e"
             ],
             [
              0.4444444444444444,
              "#bd3786"
             ],
             [
              0.5555555555555556,
              "#d8576b"
             ],
             [
              0.6666666666666666,
              "#ed7953"
             ],
             [
              0.7777777777777778,
              "#fb9f3a"
             ],
             [
              0.8888888888888888,
              "#fdca26"
             ],
             [
              1,
              "#f0f921"
             ]
            ],
            "type": "histogram2dcontour"
           }
          ],
          "mesh3d": [
           {
            "colorbar": {
             "outlinewidth": 0,
             "ticks": ""
            },
            "type": "mesh3d"
           }
          ],
          "parcoords": [
           {
            "line": {
             "colorbar": {
              "outlinewidth": 0,
              "ticks": ""
             }
            },
            "type": "parcoords"
           }
          ],
          "pie": [
           {
            "automargin": true,
            "type": "pie"
           }
          ],
          "scatter": [
           {
            "fillpattern": {
             "fillmode": "overlay",
             "size": 10,
             "solidity": 0.2
            },
            "type": "scatter"
           }
          ],
          "scatter3d": [
           {
            "line": {
             "colorbar": {
              "outlinewidth": 0,
              "ticks": ""
             }
            },
            "marker": {
             "colorbar": {
              "outlinewidth": 0,
              "ticks": ""
             }
            },
            "type": "scatter3d"
           }
          ],
          "scattercarpet": [
           {
            "marker": {
             "colorbar": {
              "outlinewidth": 0,
              "ticks": ""
             }
            },
            "type": "scattercarpet"
           }
          ],
          "scattergeo": [
           {
            "marker": {
             "colorbar": {
              "outlinewidth": 0,
              "ticks": ""
             }
            },
            "type": "scattergeo"
           }
          ],
          "scattergl": [
           {
            "marker": {
             "colorbar": {
              "outlinewidth": 0,
              "ticks": ""
             }
            },
            "type": "scattergl"
           }
          ],
          "scattermapbox": [
           {
            "marker": {
             "colorbar": {
              "outlinewidth": 0,
              "ticks": ""
             }
            },
            "type": "scattermapbox"
           }
          ],
          "scatterpolar": [
           {
            "marker": {
             "colorbar": {
              "outlinewidth": 0,
              "ticks": ""
             }
            },
            "type": "scatterpolar"
           }
          ],
          "scatterpolargl": [
           {
            "marker": {
             "colorbar": {
              "outlinewidth": 0,
              "ticks": ""
             }
            },
            "type": "scatterpolargl"
           }
          ],
          "scatterternary": [
           {
            "marker": {
             "colorbar": {
              "outlinewidth": 0,
              "ticks": ""
             }
            },
            "type": "scatterternary"
           }
          ],
          "surface": [
           {
            "colorbar": {
             "outlinewidth": 0,
             "ticks": ""
            },
            "colorscale": [
             [
              0,
              "#0d0887"
             ],
             [
              0.1111111111111111,
              "#46039f"
             ],
             [
              0.2222222222222222,
              "#7201a8"
             ],
             [
              0.3333333333333333,
              "#9c179e"
             ],
             [
              0.4444444444444444,
              "#bd3786"
             ],
             [
              0.5555555555555556,
              "#d8576b"
             ],
             [
              0.6666666666666666,
              "#ed7953"
             ],
             [
              0.7777777777777778,
              "#fb9f3a"
             ],
             [
              0.8888888888888888,
              "#fdca26"
             ],
             [
              1,
              "#f0f921"
             ]
            ],
            "type": "surface"
           }
          ],
          "table": [
           {
            "cells": {
             "fill": {
              "color": "#EBF0F8"
             },
             "line": {
              "color": "white"
             }
            },
            "header": {
             "fill": {
              "color": "#C8D4E3"
             },
             "line": {
              "color": "white"
             }
            },
            "type": "table"
           }
          ]
         },
         "layout": {
          "annotationdefaults": {
           "arrowcolor": "#2a3f5f",
           "arrowhead": 0,
           "arrowwidth": 1
          },
          "autotypenumbers": "strict",
          "coloraxis": {
           "colorbar": {
            "outlinewidth": 0,
            "ticks": ""
           }
          },
          "colorscale": {
           "diverging": [
            [
             0,
             "#8e0152"
            ],
            [
             0.1,
             "#c51b7d"
            ],
            [
             0.2,
             "#de77ae"
            ],
            [
             0.3,
             "#f1b6da"
            ],
            [
             0.4,
             "#fde0ef"
            ],
            [
             0.5,
             "#f7f7f7"
            ],
            [
             0.6,
             "#e6f5d0"
            ],
            [
             0.7,
             "#b8e186"
            ],
            [
             0.8,
             "#7fbc41"
            ],
            [
             0.9,
             "#4d9221"
            ],
            [
             1,
             "#276419"
            ]
           ],
           "sequential": [
            [
             0,
             "#0d0887"
            ],
            [
             0.1111111111111111,
             "#46039f"
            ],
            [
             0.2222222222222222,
             "#7201a8"
            ],
            [
             0.3333333333333333,
             "#9c179e"
            ],
            [
             0.4444444444444444,
             "#bd3786"
            ],
            [
             0.5555555555555556,
             "#d8576b"
            ],
            [
             0.6666666666666666,
             "#ed7953"
            ],
            [
             0.7777777777777778,
             "#fb9f3a"
            ],
            [
             0.8888888888888888,
             "#fdca26"
            ],
            [
             1,
             "#f0f921"
            ]
           ],
           "sequentialminus": [
            [
             0,
             "#0d0887"
            ],
            [
             0.1111111111111111,
             "#46039f"
            ],
            [
             0.2222222222222222,
             "#7201a8"
            ],
            [
             0.3333333333333333,
             "#9c179e"
            ],
            [
             0.4444444444444444,
             "#bd3786"
            ],
            [
             0.5555555555555556,
             "#d8576b"
            ],
            [
             0.6666666666666666,
             "#ed7953"
            ],
            [
             0.7777777777777778,
             "#fb9f3a"
            ],
            [
             0.8888888888888888,
             "#fdca26"
            ],
            [
             1,
             "#f0f921"
            ]
           ]
          },
          "colorway": [
           "#636efa",
           "#EF553B",
           "#00cc96",
           "#ab63fa",
           "#FFA15A",
           "#19d3f3",
           "#FF6692",
           "#B6E880",
           "#FF97FF",
           "#FECB52"
          ],
          "font": {
           "color": "#2a3f5f"
          },
          "geo": {
           "bgcolor": "white",
           "lakecolor": "white",
           "landcolor": "#E5ECF6",
           "showlakes": true,
           "showland": true,
           "subunitcolor": "white"
          },
          "hoverlabel": {
           "align": "left"
          },
          "hovermode": "closest",
          "mapbox": {
           "style": "light"
          },
          "paper_bgcolor": "white",
          "plot_bgcolor": "#E5ECF6",
          "polar": {
           "angularaxis": {
            "gridcolor": "white",
            "linecolor": "white",
            "ticks": ""
           },
           "bgcolor": "#E5ECF6",
           "radialaxis": {
            "gridcolor": "white",
            "linecolor": "white",
            "ticks": ""
           }
          },
          "scene": {
           "xaxis": {
            "backgroundcolor": "#E5ECF6",
            "gridcolor": "white",
            "gridwidth": 2,
            "linecolor": "white",
            "showbackground": true,
            "ticks": "",
            "zerolinecolor": "white"
           },
           "yaxis": {
            "backgroundcolor": "#E5ECF6",
            "gridcolor": "white",
            "gridwidth": 2,
            "linecolor": "white",
            "showbackground": true,
            "ticks": "",
            "zerolinecolor": "white"
           },
           "zaxis": {
            "backgroundcolor": "#E5ECF6",
            "gridcolor": "white",
            "gridwidth": 2,
            "linecolor": "white",
            "showbackground": true,
            "ticks": "",
            "zerolinecolor": "white"
           }
          },
          "shapedefaults": {
           "line": {
            "color": "#2a3f5f"
           }
          },
          "ternary": {
           "aaxis": {
            "gridcolor": "white",
            "linecolor": "white",
            "ticks": ""
           },
           "baxis": {
            "gridcolor": "white",
            "linecolor": "white",
            "ticks": ""
           },
           "bgcolor": "#E5ECF6",
           "caxis": {
            "gridcolor": "white",
            "linecolor": "white",
            "ticks": ""
           }
          },
          "title": {
           "x": 0.05
          },
          "xaxis": {
           "automargin": true,
           "gridcolor": "white",
           "linecolor": "white",
           "ticks": "",
           "title": {
            "standoff": 15
           },
           "zerolinecolor": "white",
           "zerolinewidth": 2
          },
          "yaxis": {
           "automargin": true,
           "gridcolor": "white",
           "linecolor": "white",
           "ticks": "",
           "title": {
            "standoff": 15
           },
           "zerolinecolor": "white",
           "zerolinewidth": 2
          }
         }
        },
        "title": {
         "text": "Anxiety Disorder Prevalence vs. GDP per Capita (2017) by Country"
        },
        "xaxis": {
         "anchor": "y",
         "autorange": true,
         "domain": [
          0,
          1
         ],
         "range": [
          -6508.395620265503,
          118573.12250880926
         ],
         "title": {
          "text": "GDP per Capita in 2017 (current US$)"
         },
         "type": "linear"
        },
        "yaxis": {
         "anchor": "x",
         "autorange": true,
         "domain": [
          0,
          1
         ],
         "range": [
          1.5326864586650486,
          9.07411609633495
         ],
         "title": {
          "text": "Anxiety Disorder Prevalence (%)"
         },
         "type": "linear"
        }
       }
      },
      "image/png": "[encoded data removed]",
      "text/html": [
       "<div>                            <div id=\"f03e0962-ae66-4a2e-aa4b-b8c2fbdbb8a3\" class=\"plotly-graph-div\" style=\"height:525px; width:100%;\"></div>            <script type=\"text/javascript\">                require([\"plotly\"], function(Plotly) {                    window.PLOTLYENV=window.PLOTLYENV || {};                                    if (document.getElementById(\"f03e0962-ae66-4a2e-aa4b-b8c2fbdbb8a3\")) {                    Plotly.newPlot(                        \"f03e0962-ae66-4a2e-aa4b-b8c2fbdbb8a3\",                        [{\"hovertemplate\":\"2017=%{x}\\u003cbr\\u003eAnxiety disorders (%)=%{y}\\u003cextra\\u003e\\u003c\\u002fextra\\u003e\",\"legendgroup\":\"\",\"marker\":{\"color\":\"#636efa\",\"symbol\":\"circle\"},\"mode\":\"markers\",\"name\":\"\",\"orientation\":\"v\",\"showlegend\":false,\"x\":[526.140801025756,4531.03220675893,4615.86874364885,12372.8847825647,40632.2315521995,2439.37443934002,16803.8702340001,14613.0356486571,4041.99507105058,53954.553494614,47429.1584564387,4147.1981423222,30666.8838654704,24315.4975906804,1815.47222007199,17910.7830952014,5785.53397723676,44198.4823908691,6049.3919477765,1095.27445827386,111820.581466347,3427.17384540098,3280.0082139387,5327.39230422044,6705.34084567283,9896.71889500528,28186.9867351423,8381.88134621669,711.184543433623,244.14542219677,1400.89926522987,1479.86222292144,45129.628116623,3534.34357478817,414.74032227842,662.897472963315,15034.0584350711,8817.04560829162,6449.97098770131,1414.58668992431,2227.7326089376,12118.1336248174,2113.34152379369,13655.4798216229,8543.33006731328,26697.005859375,20636.199952435,451.089088517319,57610.0981801135,2655.73321960188,7408.09130082314,7513.49798180543,6256.68301935971,2439.96728439968,3986.04901435439,8410.39797433692,null,20437.765376736,755.752644348666,5825.19966886254,46412.1364777169,38781.0494870836,6975.69519191402,632.001024153219,4418.75206546679,44652.5891722719,1998.72279840363,18582.0893411631,50765.7494665372,9309.26129609568,35663.0250406273,4454.02450948165,843.464279230956,781.975888258504,6220.97856820609,1389.35862463561,2403.30608839303,14621.2395956755,72010.1490316258,1957.96981331058,3839.78507460491,5758.59072766807,4725.19357334032,70150.7370157965,41114.7817082553,32406.7203150134,5273.1490130852,38834.0529341227,4073.11640314668,9247.58067886159,1675.98842173012,1852.99234427752,29258.266295535,1242.77022029305,2439.46241167184,15695.1151541059,8679.89742212366,1062.71243340258,706.892691974846,10529.1163503303,16885.4073948373,110193.213797228,5955.2973863451,503.498058680237,500.165547203323,9979.70447282371,10194.746141387,795.682801553765,28813.1853396512,4512.59276329667,1634.64215833074,10841.6847754844,9693.33009082487,3250.9281898035,3453.26727720294,3708.24822134669,7803.35824465203,3288.50268554688,464.294721264472,1263.24605485191,5453.57062341501,1027.96547660189,48675.2223350213,42913.186956185,2127.28572022576,514.543398016347,1941.87947889475,null,30751.6410731534,76131.8384032764,17802.5751178049,1567.6406123353,3620.36048715937,15185.9724813803,2495.14077312932,6136.0583014952,6676.30879274916,3077.43441889625,13815.501164767,21490.429863104,31108.7527508912,59407.6980498883,10727.9708633184,10658.9130859375,756.547641107379,11280.5930341194,7996.67207402003,4261.64034322214,1547.82270967205,20910.4821334146,1385.1992136057,6292.5465490011,17480.3651911372,484.456128767591,61162.0973932771,17585.197002257,23514.0254604147,2283.57905127379,555.185123613069,6734.47515312493,31600.7358741365,null,28185.3213671969,4388.20190593728,1014.84246826172,6112.88301430134,3824.04678338499,53791.5087298403,82254.3769269767,862.325327610986,844.365216932115,975.904663085938,6436.78965986703,1285.5239757568,813.394787167149,4367.25660339844,16258.7489291438,3569.71883883673,10695.550196231,6354.53282979422,766.177604015442,2638.32543945313,43063.9674785596,40572.1214823783,60322.2614241747,35365.0693039774,18995.3970195554,1916.76462520814,3032.19702965604,null,2992.07153198845,10762.8045848545,893.716500927815,1495.75213841021,1192.10701198862],\"xaxis\":\"x\",\"y\":[4.882481275,3.385244537,5.065875684,3.315833755,5.305374693,3.296906303,4.604823443,6.283677861,2.592812824,6.584301177,5.341275395,2.583156736,4.655024159,4.67330436,4.283988502,4.663044089,2.946931986,5.212644644,4.568547732,2.905293731,4.692815952,3.80143152,4.243625161,3.402636085,3.506339034,6.069179504,3.621414495,3.587520801,2.900238994,3.585760098,3.289745188,2.908662652,5.178218395,2.998977228,3.249990166,2.88704925,6.272084313,3.030968888,2.514802773,3.649877002,3.270744943,2.936829335,2.879312053,3.447605933,4.62359397,5.304908404,3.443600991,3.25156993,5.31463455,3.570649677,4.544903735,4.55830899,4.305357159,4.361022807,2.945220376,3.278990593,3.66566808,2.962243765,3.731997168,3.282447494,3.752061878,6.626710211,3.299512251,2.913375786,2.602455661,6.540495803,2.936416281,5.790227945,5.722163064,4.530095404,3.308606015,2.906946651,2.901304287,2.915176813,4.547027007,4.518425341,2.875551355,3.454656625,5.290987801,3.301938925,3.280219792,6.900899934,4.722673341,5.839092485,3.063078073,5.626121065,4.577527559,3.569054285,4.888350296,2.607805513,3.643352824,3.284167632,4.967279349,2.562741581,4.224293772,2.944949817,6.074355557,3.481456059,2.881373499,4.97646043,2.937224166,5.316516035,3.391595424,3.583301279,3.660937095,4.340782526,3.165131868,2.888671597,5.317984358,3.238920803,2.93346051,3.322963457,3.186326412,3.254044983,2.887918371,2.575179896,3.423966544,4.986825553,3.672136391,3.313935835,3.508307546,3.879454605,6.620242194,8.539931497,2.912300031,2.891358021,2.915836965,3.240918411,3.300622423,7.58550276,4.519612245,3.823379209,4.985536173,2.89177947,3.192716535,6.015213899,4.259925286,3.269720163,3.461075016,5.383260632,4.683653853,4.336059258,3.227185705,2.945051049,3.702435499,4.593078109,4.524136955,3.255973091,2.92152355,4.754236342,2.899331044,3.404671637,3.302670391,2.880724531,3.730467149,3.444251108,3.449772721,3.214827959,3.568698397,3.992829963,3.778004548,3.553077372,5.280278593,3.369917096,4.899048237,4.568070363,3.484456287,5.293836611,5.359393141,4.974984991,2.524336096,3.636165086,3.329593879,3.23266099,2.910944851,3.297507338,4.629351424,5.07236144,3.913400441,2.567310701,3.526626139,2.941769565,4.263912049,4.649860931,6.635055035,4.718337738,6.317737652,2.560435029,3.218816111,2.866789313,2.066871058,3.764810528,4.857207442,3.599713942,3.1109256],\"yaxis\":\"y\",\"type\":\"scatter\"},{\"hovertemplate\":\"\\u003cb\\u003eOLS trendline\\u003c\\u002fb\\u003e\\u003cbr\\u003eAnxiety disorders (%) = 3.0542e-05 * 2017 + 3.53417\\u003cbr\\u003eR\\u003csup\\u003e2\\u003c\\u002fsup\\u003e=0.288155\\u003cbr\\u003e\\u003cbr\\u003e2017=%{x}\\u003cbr\\u003eAnxiety disorders (%)=%{y} \\u003cb\\u003e(trend)\\u003c\\u002fb\\u003e\\u003cextra\\u003e\\u003c\\u002fextra\\u003e\",\"legendgroup\":\"\",\"marker\":{\"color\":\"#636efa\",\"symbol\":\"circle\"},\"mode\":\"lines\",\"name\":\"\",\"showlegend\":false,\"x\":[244.14542219677,414.74032227842,451.089088517319,464.294721264472,484.456128767591,500.165547203323,503.498058680237,514.543398016347,526.140801025756,555.185123613069,632.001024153219,662.897472963315,706.892691974846,711.184543433623,755.752644348666,756.547641107379,766.177604015442,781.975888258504,795.682801553765,813.394787167149,843.464279230956,844.365216932115,862.325327610986,893.716500927815,975.904663085938,1014.84246826172,1027.96547660189,1062.71243340258,1095.27445827386,1192.10701198862,1242.77022029305,1263.24605485191,1285.5239757568,1385.1992136057,1389.35862463561,1400.89926522987,1414.58668992431,1479.86222292144,1495.75213841021,1547.82270967205,1567.6406123353,1634.64215833074,1675.98842173012,1815.47222007199,1852.99234427752,1916.76462520814,1941.87947889475,1957.96981331058,1998.72279840363,2113.34152379369,2127.28572022576,2227.7326089376,2283.57905127379,2403.30608839303,2439.37443934002,2439.46241167184,2439.96728439968,2495.14077312932,2638.32543945313,2655.73321960188,2992.07153198845,3032.19702965604,3077.43441889625,3250.9281898035,3280.0082139387,3288.50268554688,3427.17384540098,3453.26727720294,3534.34357478817,3569.71883883673,3620.36048715937,3708.24822134669,3824.04678338499,3839.78507460491,3986.04901435439,4041.99507105058,4073.11640314668,4147.1981423222,4261.64034322214,4367.25660339844,4388.20190593728,4418.75206546679,4454.02450948165,4512.59276329667,4531.03220675893,4615.86874364885,4725.19357334032,5273.1490130852,5327.39230422044,5453.57062341501,5758.59072766807,5785.53397723676,5825.19966886254,5955.2973863451,6049.3919477765,6112.88301430134,6136.0583014952,6220.97856820609,6256.68301935971,6292.5465490011,6354.53282979422,6436.78965986703,6449.97098770131,6676.30879274916,6705.34084567283,6734.47515312493,6975.69519191402,7408.09130082314,7513.49798180543,7803.35824465203,7996.67207402003,8381.88134621669,8410.39797433692,8543.33006731328,8679.89742212366,8817.04560829162,9247.58067886159,9309.26129609568,9693.33009082487,9896.71889500528,9979.70447282371,10194.746141387,10529.1163503303,10658.9130859375,10695.550196231,10727.9708633184,10762.8045848545,10841.6847754844,11280.5930341194,12118.1336248174,12372.8847825647,13655.4798216229,13815.501164767,14613.0356486571,14621.2395956755,15034.0584350711,15185.9724813803,15695.1151541059,16258.7489291438,16803.8702340001,16885.4073948373,17480.3651911372,17585.197002257,17802.5751178049,17910.7830952014,18582.0893411631,18995.3970195554,20437.765376736,20636.199952435,20910.4821334146,21490.429863104,23514.0254604147,24315.4975906804,26697.005859375,28185.3213671969,28186.9867351423,28813.1853396512,29258.266295535,30666.8838654704,30751.6410731534,31108.7527508912,31600.7358741365,32406.7203150134,35365.0693039774,35663.0250406273,38781.0494870836,38834.0529341227,40572.1214823783,40632.2315521995,41114.7817082553,42913.186956185,43063.9674785596,44198.4823908691,44652.5891722719,45129.628116623,46412.1364777169,47429.1584564387,48675.2223350213,50765.7494665372,53791.5087298403,53954.553494614,57610.0981801135,59407.6980498883,60322.2614241747,61162.0973932771,70150.7370157965,72010.1490316258,76131.8384032764,82254.3769269767,110193.213797228,111820.581466347],\"xaxis\":\"x\",\"y\":[3.541624866566908,3.546835180269014,3.5479453451959757,3.548348671961398,3.548964442173268,3.54944423962377,3.5495460212725902,3.5498833683026585,3.5502375764752347,3.551124648901624,3.5534707620558414,3.5544144021676187,3.5557581052462757,3.5558891870807994,3.5572503871328722,3.5572746679437466,3.557568786511574,3.5580512981037846,3.558469934992236,3.5590108948995294,3.5599292780776928,3.559956794539479,3.5605053326887246,3.5614640826887514,3.563974275591578,3.5651635150104597,3.565564318259179,3.5666255606822435,3.5676200708597103,3.570577533135479,3.572124890109778,3.572750263560643,3.57343067637773,3.5764749599833725,3.5766019968190075,3.5769544713524817,3.5773725130195997,3.5793661599798807,3.579851470175888,3.5814418108648076,3.582047089743273,3.5840934526356882,3.5853562512458317,3.5896163689010168,3.590762309472272,3.592710044070366,3.5934771025593775,3.5939685339552643,3.5952132126445475,3.5987139006201665,3.599139784616113,3.602207636001698,3.603913299439344,3.6075700055994715,3.6086716060755792,3.608674292928736,3.6086897127642086,3.6103748228359835,3.6147479724935723,3.6152796413499617,3.62555209449324,3.626777608445891,3.628159249918719,3.6334581010060347,3.6343462638299915,3.6346057021941576,3.638841000224339,3.6396379464706077,3.6421141807778596,3.6431946129765924,3.644741311465389,3.647425580839585,3.650962303415603,3.6514429826994013,3.6559101796029196,3.657618885464838,3.658569393967557,3.660832000297039,3.6643272968572687,3.6675530313153235,3.668192743268967,3.6691258070048813,3.6702030988715753,3.671991891943436,3.6725550698865317,3.67514614951661,3.678485151197488,3.6952208199336565,3.6968775198872543,3.7007312612657683,3.710047192913472,3.710870094315213,3.7120815648602434,3.71605501259923,3.7189288510462473,3.720867996786931,3.721575816987644,3.724169453896007,3.7252599401355297,3.7263552849542028,3.728248471491458,3.7307607616514513,3.731163346095617,3.738076160994427,3.7389628586804426,3.739852679426821,3.747220027880519,3.760426280646037,3.76364561413111,3.772498533523676,3.778402729331878,3.7901678005511457,3.7910387561199324,3.795098771426092,3.799269814990046,3.8034585983198403,3.816608011205889,3.818491862159085,3.8302221008870365,3.836434006827771,3.838968554419625,3.84553636243559,3.8557487057143134,3.8597129608573404,3.8608319323956244,3.861822125220123,3.862886017613905,3.865295178367638,3.8787003253728467,3.9042805110272543,3.912061127254368,3.951234176994188,3.9561215528560343,3.980479870996411,3.980730436151295,3.9933387594620204,3.997978522061303,4.013528770297091,4.0307432871416395,4.047392395659205,4.049882705663418,4.068053921548256,4.071255697343621,4.077894865181786,4.081199755931958,4.101702808074604,4.1143260615181845,4.158378911933439,4.164439505704069,4.172816638930898,4.19052941698616,4.252334124296537,4.276812706130934,4.34954879119631,4.395004960634844,4.395055824344256,4.41418119777424,4.4277748714531,4.4707969044807525,4.47338556123621,4.48429247502325,4.499318635869928,4.523935032807793,4.61428900156907,4.623389173124872,4.718619953699773,4.720238786303998,4.773322919345732,4.775158802600589,4.7898968615276,4.844823799558823,4.849428942041763,4.884079324849342,4.897948665516794,4.912518400878174,4.951688803297442,4.982750713990791,5.020808028114314,5.084656960015258,5.177069775060238,5.182049492341061,5.293697229491485,5.348599569642971,5.376532187078827,5.402182478237832,5.6767137342489455,5.733503942510147,5.859388682315718,6.046383406931984,6.8996920609204775,6.949395164944788],\"yaxis\":\"y\",\"type\":\"scatter\"}],                        {\"template\":{\"data\":{\"histogram2dcontour\":[{\"type\":\"histogram2dcontour\",\"colorbar\":{\"outlinewidth\":0,\"ticks\":\"\"},\"colorscale\":[[0.0,\"#0d0887\"],[0.1111111111111111,\"#46039f\"],[0.2222222222222222,\"#7201a8\"],[0.3333333333333333,\"#9c179e\"],[0.4444444444444444,\"#bd3786\"],[0.5555555555555556,\"#d8576b\"],[0.6666666666666666,\"#ed7953\"],[0.7777777777777778,\"#fb9f3a\"],[0.8888888888888888,\"#fdca26\"],[1.0,\"#f0f921\"]]}],\"choropleth\":[{\"type\":\"choropleth\",\"colorbar\":{\"outlinewidth\":0,\"ticks\":\"\"}}],\"histogram2d\":[{\"type\":\"histogram2d\",\"colorbar\":{\"outlinewidth\":0,\"ticks\":\"\"},\"colorscale\":[[0.0,\"#0d0887\"],[0.1111111111111111,\"#46039f\"],[0.2222222222222222,\"#7201a8\"],[0.3333333333333333,\"#9c179e\"],[0.4444444444444444,\"#bd3786\"],[0.5555555555555556,\"#d8576b\"],[0.6666666666666666,\"#ed7953\"],[0.7777777777777778,\"#fb9f3a\"],[0.8888888888888888,\"#fdca26\"],[1.0,\"#f0f921\"]]}],\"heatmap\":[{\"type\":\"heatmap\",\"colorbar\":{\"outlinewidth\":0,\"ticks\":\"\"},\"colorscale\":[[0.0,\"#0d0887\"],[0.1111111111111111,\"#46039f\"],[0.2222222222222222,\"#7201a8\"],[0.3333333333333333,\"#9c179e\"],[0.4444444444444444,\"#bd3786\"],[0.5555555555555556,\"#d8576b\"],[0.6666666666666666,\"#ed7953\"],[0.7777777777777778,\"#fb9f3a\"],[0.8888888888888888,\"#fdca26\"],[1.0,\"#f0f921\"]]}],\"heatmapgl\":[{\"type\":\"heatmapgl\",\"colorbar\":{\"outlinewidth\":0,\"ticks\":\"\"},\"colorscale\":[[0.0,\"#0d0887\"],[0.1111111111111111,\"#46039f\"],[0.2222222222222222,\"#7201a8\"],[0.3333333333333333,\"#9c179e\"],[0.4444444444444444,\"#bd3786\"],[0.5555555555555556,\"#d8576b\"],[0.6666666666666666,\"#ed7953\"],[0.7777777777777778,\"#fb9f3a\"],[0.8888888888888888,\"#fdca26\"],[1.0,\"#f0f921\"]]}],\"contourcarpet\":[{\"type\":\"contourcarpet\",\"colorbar\":{\"outlinewidth\":0,\"ticks\":\"\"}}],\"contour\":[{\"type\":\"contour\",\"colorbar\":{\"outlinewidth\":0,\"ticks\":\"\"},\"colorscale\":[[0.0,\"#0d0887\"],[0.1111111111111111,\"#46039f\"],[0.2222222222222222,\"#7201a8\"],[0.3333333333333333,\"#9c179e\"],[0.4444444444444444,\"#bd3786\"],[0.5555555555555556,\"#d8576b\"],[0.6666666666666666,\"#ed7953\"],[0.7777777777777778,\"#fb9f3a\"],[0.8888888888888888,\"#fdca26\"],[1.0,\"#f0f921\"]]}],\"surface\":[{\"type\":\"surface\",\"colorbar\":{\"outlinewidth\":0,\"ticks\":\"\"},\"colorscale\":[[0.0,\"#0d0887\"],[0.1111111111111111,\"#46039f\"],[0.2222222222222222,\"#7201a8\"],[0.3333333333333333,\"#9c179e\"],[0.4444444444444444,\"#bd3786\"],[0.5555555555555556,\"#d8576b\"],[0.6666666666666666,\"#ed7953\"],[0.7777777777777778,\"#fb9f3a\"],[0.8888888888888888,\"#fdca26\"],[1.0,\"#f0f921\"]]}],\"mesh3d\":[{\"type\":\"mesh3d\",\"colorbar\":{\"outlinewidth\":0,\"ticks\":\"\"}}],\"scatter\":[{\"fillpattern\":{\"fillmode\":\"overlay\",\"size\":10,\"solidity\":0.2},\"type\":\"scatter\"}],\"parcoords\":[{\"type\":\"parcoords\",\"line\":{\"colorbar\":{\"outlinewidth\":0,\"ticks\":\"\"}}}],\"scatterpolargl\":[{\"type\":\"scatterpolargl\",\"marker\":{\"colorbar\":{\"outlinewidth\":0,\"ticks\":\"\"}}}],\"bar\":[{\"error_x\":{\"color\":\"#2a3f5f\"},\"error_y\":{\"color\":\"#2a3f5f\"},\"marker\":{\"line\":{\"color\":\"#E5ECF6\",\"width\":0.5},\"pattern\":{\"fillmode\":\"overlay\",\"size\":10,\"solidity\":0.2}},\"type\":\"bar\"}],\"scattergeo\":[{\"type\":\"scattergeo\",\"marker\":{\"colorbar\":{\"outlinewidth\":0,\"ticks\":\"\"}}}],\"scatterpolar\":[{\"type\":\"scatterpolar\",\"marker\":{\"colorbar\":{\"outlinewidth\":0,\"ticks\":\"\"}}}],\"histogram\":[{\"marker\":{\"pattern\":{\"fillmode\":\"overlay\",\"size\":10,\"solidity\":0.2}},\"type\":\"histogram\"}],\"scattergl\":[{\"type\":\"scattergl\",\"marker\":{\"colorbar\":{\"outlinewidth\":0,\"ticks\":\"\"}}}],\"scatter3d\":[{\"type\":\"scatter3d\",\"line\":{\"colorbar\":{\"outlinewidth\":0,\"ticks\":\"\"}},\"marker\":{\"colorbar\":{\"outlinewidth\":0,\"ticks\":\"\"}}}],\"scattermapbox\":[{\"type\":\"scattermapbox\",\"marker\":{\"colorbar\":{\"outlinewidth\":0,\"ticks\":\"\"}}}],\"scatterternary\":[{\"type\":\"scatterternary\",\"marker\":{\"colorbar\":{\"outlinewidth\":0,\"ticks\":\"\"}}}],\"scattercarpet\":[{\"type\":\"scattercarpet\",\"marker\":{\"colorbar\":{\"outlinewidth\":0,\"ticks\":\"\"}}}],\"carpet\":[{\"aaxis\":{\"endlinecolor\":\"#2a3f5f\",\"gridcolor\":\"white\",\"linecolor\":\"white\",\"minorgridcolor\":\"white\",\"startlinecolor\":\"#2a3f5f\"},\"baxis\":{\"endlinecolor\":\"#2a3f5f\",\"gridcolor\":\"white\",\"linecolor\":\"white\",\"minorgridcolor\":\"white\",\"startlinecolor\":\"#2a3f5f\"},\"type\":\"carpet\"}],\"table\":[{\"cells\":{\"fill\":{\"color\":\"#EBF0F8\"},\"line\":{\"color\":\"white\"}},\"header\":{\"fill\":{\"color\":\"#C8D4E3\"},\"line\":{\"color\":\"white\"}},\"type\":\"table\"}],\"barpolar\":[{\"marker\":{\"line\":{\"color\":\"#E5ECF6\",\"width\":0.5},\"pattern\":{\"fillmode\":\"overlay\",\"size\":10,\"solidity\":0.2}},\"type\":\"barpolar\"}],\"pie\":[{\"automargin\":true,\"type\":\"pie\"}]},\"layout\":{\"autotypenumbers\":\"strict\",\"colorway\":[\"#636efa\",\"#EF553B\",\"#00cc96\",\"#ab63fa\",\"#FFA15A\",\"#19d3f3\",\"#FF6692\",\"#B6E880\",\"#FF97FF\",\"#FECB52\"],\"font\":{\"color\":\"#2a3f5f\"},\"hovermode\":\"closest\",\"hoverlabel\":{\"align\":\"left\"},\"paper_bgcolor\":\"white\",\"plot_bgcolor\":\"#E5ECF6\",\"polar\":{\"bgcolor\":\"#E5ECF6\",\"angularaxis\":{\"gridcolor\":\"white\",\"linecolor\":\"white\",\"ticks\":\"\"},\"radialaxis\":{\"gridcolor\":\"white\",\"linecolor\":\"white\",\"ticks\":\"\"}},\"ternary\":{\"bgcolor\":\"#E5ECF6\",\"aaxis\":{\"gridcolor\":\"white\",\"linecolor\":\"white\",\"ticks\":\"\"},\"baxis\":{\"gridcolor\":\"white\",\"linecolor\":\"white\",\"ticks\":\"\"},\"caxis\":{\"gridcolor\":\"white\",\"linecolor\":\"white\",\"ticks\":\"\"}},\"coloraxis\":{\"colorbar\":{\"outlinewidth\":0,\"ticks\":\"\"}},\"colorscale\":{\"sequential\":[[0.0,\"#0d0887\"],[0.1111111111111111,\"#46039f\"],[0.2222222222222222,\"#7201a8\"],[0.3333333333333333,\"#9c179e\"],[0.4444444444444444,\"#bd3786\"],[0.5555555555555556,\"#d8576b\"],[0.6666666666666666,\"#ed7953\"],[0.7777777777777778,\"#fb9f3a\"],[0.8888888888888888,\"#fdca26\"],[1.0,\"#f0f921\"]],\"sequentialminus\":[[0.0,\"#0d0887\"],[0.1111111111111111,\"#46039f\"],[0.2222222222222222,\"#7201a8\"],[0.3333333333333333,\"#9c179e\"],[0.4444444444444444,\"#bd3786\"],[0.5555555555555556,\"#d8576b\"],[0.6666666666666666,\"#ed7953\"],[0.7777777777777778,\"#fb9f3a\"],[0.8888888888888888,\"#fdca26\"],[1.0,\"#f0f921\"]],\"diverging\":[[0,\"#8e0152\"],[0.1,\"#c51b7d\"],[0.2,\"#de77ae\"],[0.3,\"#f1b6da\"],[0.4,\"#fde0ef\"],[0.5,\"#f7f7f7\"],[0.6,\"#e6f5d0\"],[0.7,\"#b8e186\"],[0.8,\"#7fbc41\"],[0.9,\"#4d9221\"],[1,\"#276419\"]]},\"xaxis\":{\"gridcolor\":\"white\",\"linecolor\":\"white\",\"ticks\":\"\",\"title\":{\"standoff\":15},\"zerolinecolor\":\"white\",\"automargin\":true,\"zerolinewidth\":2},\"yaxis\":{\"gridcolor\":\"white\",\"linecolor\":\"white\",\"ticks\":\"\",\"title\":{\"standoff\":15},\"zerolinecolor\":\"white\",\"automargin\":true,\"zerolinewidth\":2},\"scene\":{\"xaxis\":{\"backgroundcolor\":\"#E5ECF6\",\"gridcolor\":\"white\",\"linecolor\":\"white\",\"showbackground\":true,\"ticks\":\"\",\"zerolinecolor\":\"white\",\"gridwidth\":2},\"yaxis\":{\"backgroundcolor\":\"#E5ECF6\",\"gridcolor\":\"white\",\"linecolor\":\"white\",\"showbackground\":true,\"ticks\":\"\",\"zerolinecolor\":\"white\",\"gridwidth\":2},\"zaxis\":{\"backgroundcolor\":\"#E5ECF6\",\"gridcolor\":\"white\",\"linecolor\":\"white\",\"showbackground\":true,\"ticks\":\"\",\"zerolinecolor\":\"white\",\"gridwidth\":2}},\"shapedefaults\":{\"line\":{\"color\":\"#2a3f5f\"}},\"annotationdefaults\":{\"arrowcolor\":\"#2a3f5f\",\"arrowhead\":0,\"arrowwidth\":1},\"geo\":{\"bgcolor\":\"white\",\"landcolor\":\"#E5ECF6\",\"subunitcolor\":\"white\",\"showland\":true,\"showlakes\":true,\"lakecolor\":\"white\"},\"title\":{\"x\":0.05},\"mapbox\":{\"style\":\"light\"}}},\"xaxis\":{\"anchor\":\"y\",\"domain\":[0.0,1.0],\"title\":{\"text\":\"GDP per Capita in 2017 (current US$)\"}},\"yaxis\":{\"anchor\":\"x\",\"domain\":[0.0,1.0],\"title\":{\"text\":\"Anxiety Disorder Prevalence (%)\"}},\"legend\":{\"tracegroupgap\":0},\"title\":{\"text\":\"Anxiety Disorder Prevalence vs. GDP per Capita (2017) by Country\"}},                        {\"responsive\": true}                    ).then(function(){\n",
       "                            \n",
       "var gd = document.getElementById('f03e0962-ae66-4a2e-aa4b-b8c2fbdbb8a3');\n",
       "var x = new MutationObserver(function (mutations, observer) {{\n",
       "        var display = window.getComputedStyle(gd).display;\n",
       "        if (!display || display === 'none') {{\n",
       "            console.log([gd, 'removed!']);\n",
       "            Plotly.purge(gd);\n",
       "            observer.disconnect();\n",
       "        }}\n",
       "}});\n",
       "\n",
       "// Listen for the removal of the full notebook cells\n",
       "var notebookContainer = gd.closest('#notebook-container');\n",
       "if (notebookContainer) {{\n",
       "    x.observe(notebookContainer, {childList: true});\n",
       "}}\n",
       "\n",
       "// Listen for the clearing of the current output cell\n",
       "var outputEl = gd.closest('.output');\n",
       "if (outputEl) {{\n",
       "    x.observe(outputEl, {childList: true});\n",
       "}}\n",
       "\n",
       "                        })                };                });            </script>        </div>"
      ]
     },
     "metadata": {},
     "output_type": "display_data"
    }
   ],
   "source": [
    "fig = px.scatter(\n",
    "    merged_data,\n",
    "    x=\"2017\",\n",
    "    y=\"Anxiety disorders (%)\",\n",
    "    title=\"Anxiety Disorder Prevalence vs. GDP per Capita (2017) by Country\",\n",
    "    trendline=\"ols\",\n",
    " \n",
    ")\n",
    "fig.update_layout(\n",
    "    xaxis_title=\"GDP per Capita in 2017 (current US$)\",\n",
    "    yaxis_title=\"Anxiety Disorder Prevalence (%)\"\n",
    ")\n",
    "\n",
    "\n",
    "fig.show()"
   ]
  },
  {
   "cell_type": "markdown",
   "id": "f74adab8-ee7a-4699-a378-3151fc292e71",
   "metadata": {},
   "source": [
    "This scatterplot examines the relationship between a country's GDP per capita and the prevalence of anxiety disorders, aiming to understand the potential impact of economic stability on mental health. The weak positive trend suggests that as GDP per capita increases, anxiety disorder prevalence also tends to rise slightly, though not significantly. This finding challenges the assumption that higher economic wealth directly correlates with lower anxiety, despite the greater access to healthcare and reduced financial stress often associated with wealthier countries. Conversely, countries with lower GDP per capita show a relatively narrow range of anxiety prevalence, hinting that limited resources may not be the sole drivers of anxiety rates. Overall, the data underscores that while economic factors may play a role, mental health is likely influenced by a combination of social, cultural, and economic variables, revealing the complexity of the link between GDP and anxiety."
   ]
  },
  {
   "cell_type": "code",
   "execution_count": 29,
   "id": "c0a67555-1c7f-49a5-baf2-36c7a70d4213",
   "metadata": {},
   "outputs": [
    {
     "data": {
      "text/html": [
       "<table class=\"simpletable\">\n",
       "<caption>OLS Regression Results</caption>\n",
       "<tr>\n",
       "  <th>Dep. Variable:</th>            <td>y</td>        <th>  R-squared:         </th> <td>   0.288</td>\n",
       "</tr>\n",
       "<tr>\n",
       "  <th>Model:</th>                   <td>OLS</td>       <th>  Adj. R-squared:    </th> <td>   0.284</td>\n",
       "</tr>\n",
       "<tr>\n",
       "  <th>Method:</th>             <td>Least Squares</td>  <th>  F-statistic:       </th> <td>   76.51</td>\n",
       "</tr>\n",
       "<tr>\n",
       "  <th>Date:</th>             <td>Fri, 06 Dec 2024</td> <th>  Prob (F-statistic):</th> <td>1.20e-15</td>\n",
       "</tr>\n",
       "<tr>\n",
       "  <th>Time:</th>                 <td>21:06:38</td>     <th>  Log-Likelihood:    </th> <td> -262.84</td>\n",
       "</tr>\n",
       "<tr>\n",
       "  <th>No. Observations:</th>      <td>   191</td>      <th>  AIC:               </th> <td>   529.7</td>\n",
       "</tr>\n",
       "<tr>\n",
       "  <th>Df Residuals:</th>          <td>   189</td>      <th>  BIC:               </th> <td>   536.2</td>\n",
       "</tr>\n",
       "<tr>\n",
       "  <th>Df Model:</th>              <td>     1</td>      <th>                     </th>     <td> </td>   \n",
       "</tr>\n",
       "<tr>\n",
       "  <th>Covariance Type:</th>      <td>nonrobust</td>    <th>                     </th>     <td> </td>   \n",
       "</tr>\n",
       "</table>\n",
       "<table class=\"simpletable\">\n",
       "<tr>\n",
       "    <td></td>       <th>coef</th>     <th>std err</th>      <th>t</th>      <th>P>|t|</th>  <th>[0.025</th>    <th>0.975]</th>  \n",
       "</tr>\n",
       "<tr>\n",
       "  <th>const</th> <td>    3.5342</td> <td>    0.086</td> <td>   40.972</td> <td> 0.000</td> <td>    3.364</td> <td>    3.704</td>\n",
       "</tr>\n",
       "<tr>\n",
       "  <th>x1</th>    <td> 3.054e-05</td> <td> 3.49e-06</td> <td>    8.747</td> <td> 0.000</td> <td> 2.37e-05</td> <td> 3.74e-05</td>\n",
       "</tr>\n",
       "</table>\n",
       "<table class=\"simpletable\">\n",
       "<tr>\n",
       "  <th>Omnibus:</th>       <td>26.039</td> <th>  Durbin-Watson:     </th> <td>   2.049</td>\n",
       "</tr>\n",
       "<tr>\n",
       "  <th>Prob(Omnibus):</th> <td> 0.000</td> <th>  Jarque-Bera (JB):  </th> <td>  32.875</td>\n",
       "</tr>\n",
       "<tr>\n",
       "  <th>Skew:</th>          <td> 0.890</td> <th>  Prob(JB):          </th> <td>7.26e-08</td>\n",
       "</tr>\n",
       "<tr>\n",
       "  <th>Kurtosis:</th>      <td> 3.981</td> <th>  Cond. No.          </th> <td>3.06e+04</td>\n",
       "</tr>\n",
       "</table><br/><br/>Notes:<br/>[1] Standard Errors assume that the covariance matrix of the errors is correctly specified.<br/>[2] The condition number is large, 3.06e+04. This might indicate that there are<br/>strong multicollinearity or other numerical problems."
      ],
      "text/latex": [
       "\\begin{center}\n",
       "\\begin{tabular}{lclc}\n",
       "\\toprule\n",
       "\\textbf{Dep. Variable:}    &        y         & \\textbf{  R-squared:         } &     0.288   \\\\\n",
       "\\textbf{Model:}            &       OLS        & \\textbf{  Adj. R-squared:    } &     0.284   \\\\\n",
       "\\textbf{Method:}           &  Least Squares   & \\textbf{  F-statistic:       } &     76.51   \\\\\n",
       "\\textbf{Date:}             & Fri, 06 Dec 2024 & \\textbf{  Prob (F-statistic):} &  1.20e-15   \\\\\n",
       "\\textbf{Time:}             &     21:06:38     & \\textbf{  Log-Likelihood:    } &   -262.84   \\\\\n",
       "\\textbf{No. Observations:} &         191      & \\textbf{  AIC:               } &     529.7   \\\\\n",
       "\\textbf{Df Residuals:}     &         189      & \\textbf{  BIC:               } &     536.2   \\\\\n",
       "\\textbf{Df Model:}         &           1      & \\textbf{                     } &             \\\\\n",
       "\\textbf{Covariance Type:}  &    nonrobust     & \\textbf{                     } &             \\\\\n",
       "\\bottomrule\n",
       "\\end{tabular}\n",
       "\\begin{tabular}{lcccccc}\n",
       "               & \\textbf{coef} & \\textbf{std err} & \\textbf{t} & \\textbf{P$> |$t$|$} & \\textbf{[0.025} & \\textbf{0.975]}  \\\\\n",
       "\\midrule\n",
       "\\textbf{const} &       3.5342  &        0.086     &    40.972  &         0.000        &        3.364    &        3.704     \\\\\n",
       "\\textbf{x1}    &    3.054e-05  &     3.49e-06     &     8.747  &         0.000        &     2.37e-05    &     3.74e-05     \\\\\n",
       "\\bottomrule\n",
       "\\end{tabular}\n",
       "\\begin{tabular}{lclc}\n",
       "\\textbf{Omnibus:}       & 26.039 & \\textbf{  Durbin-Watson:     } &    2.049  \\\\\n",
       "\\textbf{Prob(Omnibus):} &  0.000 & \\textbf{  Jarque-Bera (JB):  } &   32.875  \\\\\n",
       "\\textbf{Skew:}          &  0.890 & \\textbf{  Prob(JB):          } & 7.26e-08  \\\\\n",
       "\\textbf{Kurtosis:}      &  3.981 & \\textbf{  Cond. No.          } & 3.06e+04  \\\\\n",
       "\\bottomrule\n",
       "\\end{tabular}\n",
       "%\\caption{OLS Regression Results}\n",
       "\\end{center}\n",
       "\n",
       "Notes: \\newline\n",
       " [1] Standard Errors assume that the covariance matrix of the errors is correctly specified. \\newline\n",
       " [2] The condition number is large, 3.06e+04. This might indicate that there are \\newline\n",
       " strong multicollinearity or other numerical problems."
      ],
      "text/plain": [
       "<class 'statsmodels.iolib.summary.Summary'>\n",
       "\"\"\"\n",
       "                            OLS Regression Results                            \n",
       "==============================================================================\n",
       "Dep. Variable:                      y   R-squared:                       0.288\n",
       "Model:                            OLS   Adj. R-squared:                  0.284\n",
       "Method:                 Least Squares   F-statistic:                     76.51\n",
       "Date:                Fri, 06 Dec 2024   Prob (F-statistic):           1.20e-15\n",
       "Time:                        21:06:38   Log-Likelihood:                -262.84\n",
       "No. Observations:                 191   AIC:                             529.7\n",
       "Df Residuals:                     189   BIC:                             536.2\n",
       "Df Model:                           1                                         \n",
       "Covariance Type:            nonrobust                                         \n",
       "==============================================================================\n",
       "                 coef    std err          t      P>|t|      [0.025      0.975]\n",
       "------------------------------------------------------------------------------\n",
       "const          3.5342      0.086     40.972      0.000       3.364       3.704\n",
       "x1          3.054e-05   3.49e-06      8.747      0.000    2.37e-05    3.74e-05\n",
       "==============================================================================\n",
       "Omnibus:                       26.039   Durbin-Watson:                   2.049\n",
       "Prob(Omnibus):                  0.000   Jarque-Bera (JB):               32.875\n",
       "Skew:                           0.890   Prob(JB):                     7.26e-08\n",
       "Kurtosis:                       3.981   Cond. No.                     3.06e+04\n",
       "==============================================================================\n",
       "\n",
       "Notes:\n",
       "[1] Standard Errors assume that the covariance matrix of the errors is correctly specified.\n",
       "[2] The condition number is large, 3.06e+04. This might indicate that there are\n",
       "strong multicollinearity or other numerical problems.\n",
       "\"\"\""
      ]
     },
     "execution_count": 29,
     "metadata": {},
     "output_type": "execute_result"
    }
   ],
   "source": [
    "trend_results = px.get_trendline_results(fig).iloc[0, 0]\n",
    "trend_results.summary()"
   ]
  },
  {
   "cell_type": "markdown",
   "id": "5115abd5-9fcb-4ba7-9e8f-eabc291d7692",
   "metadata": {},
   "source": [
    "**Key Points**:\n",
    "1. R-squared (0.288): About 28.8% of the variance in anxiety disorder prevalence is explained by GDP per capita, suggesting a moderate fit.\n",
    "2. Adjusted R-squared (0.284): Similar to R-squared, indicating the model’s explanatory power is consistent when adjusted for the number of predictors.\n",
    "3. F-statistic (76.51) and Prob(F-statistic) (1.20e-15): The very low p-value for the F-statistic confirms that the overall model is statistically significant.\n",
    "\n",
    "**Coefficients**:\n",
    "1. Constant (3.5342): The intercept, when GDP per capita is zero, anxiety disorder prevalence is approximately 3.53%.\n",
    "2. x1 (3.054e-05): The coefficient for GDP per capita is 3.054e-05, suggesting that for each one-unit increase in GDP per capita, the prevalence of anxiety disorders increases slightly (by 0.003%), though this increase is statistically significant (p-value = 0.000)."
   ]
  },
  {
   "cell_type": "markdown",
   "id": "62e33786-29b9-4265-aa10-62667eeafa26",
   "metadata": {},
   "source": [
    "### Conclusion\n",
    "The model indicates a small but statistically significant positive relationship between GDP per capita and anxiety disorder prevalence. However, the relatively low R-squared and high condition number suggest that this model has limitations and that other factors beyond GDP per capita likely influence anxiety rates. Additionally, the non-normality in residuals points to possible model specification issues, suggesting further refinement or additional variables might improve the model’s accuracy."
   ]
  }
 ],
 "metadata": {
  "kernelspec": {
   "display_name": "Python 3 (ipykernel)",
   "language": "python",
   "name": "python3"
  },
  "language_info": {
   "codemirror_mode": {
    "name": "ipython",
    "version": 3
   },
   "file_extension": ".py",
   "mimetype": "text/x-python",
   "name": "python",
   "nbconvert_exporter": "python",
   "pygments_lexer": "ipython3",
   "version": "3.12.3"
  }
 },
 "nbformat": 4,
 "nbformat_minor": 5
}
